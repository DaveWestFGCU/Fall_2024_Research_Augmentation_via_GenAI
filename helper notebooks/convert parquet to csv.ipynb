{
 "cells": [
  {
   "metadata": {
    "ExecuteTime": {
     "end_time": "2024-11-04T23:21:15.679269Z",
     "start_time": "2024-11-04T23:21:15.676410Z"
    }
   },
   "cell_type": "code",
   "source": [
    "dataset_name = \"EmoEvent (Raw)\"\n",
    "llm_name = \"Llama3.1 8B instruct-q8\""
   ],
   "id": "46be90097145b670",
   "outputs": [],
   "execution_count": 1
  },
  {
   "metadata": {
    "ExecuteTime": {
     "end_time": "2024-11-04T23:21:15.692183Z",
     "start_time": "2024-11-04T23:21:15.684309Z"
    }
   },
   "cell_type": "code",
   "source": [
    "from config_files import dataset_config\n",
    "dataset = dataset_config.dataset[dataset_name]\n",
    "\n",
    "from config_files import LLM_config\n",
    "llm = LLM_config.model[llm_name]"
   ],
   "id": "633ed5e689269ff1",
   "outputs": [],
   "execution_count": 2
  },
  {
   "cell_type": "code",
   "id": "initial_id",
   "metadata": {
    "collapsed": true,
    "ExecuteTime": {
     "end_time": "2024-11-04T23:21:15.813254Z",
     "start_time": "2024-11-04T23:21:15.758870Z"
    }
   },
   "source": [
    "import pandas as pd\n",
    "\n",
    "dataframe = pd.read_parquet(f\"../synthetic_datasets/{dataset[\"id\"]}/{llm[\"id\"].replace(\":\", \"_\")}.parquet\" )\n",
    "\n",
    "dataframe"
   ],
   "outputs": [
    {
     "data": {
      "text/plain": [
       "                                                   text    labels  \\\n",
       "0     IT'S HAPPENING AGAIN... #WorldBookDay  ⚠️📖 Don...      fear   \n",
       "1     USER_Williams WHAT JUST HAPPENED?! That was th...      fear   \n",
       "2     Watching the flames engulf #NotreDameCathedral...   sadness   \n",
       "3      #WorldBookDay  Warning: Unread books are like...      fear   \n",
       "4     Wow, this #De Jong fella's tackling skills are...      fear   \n",
       "...                                                 ...       ...   \n",
       "9018  Spanish politics hits new lows as Socialist pa...   sadness   \n",
       "9019  Ugh, Alfie Allen's acting is absolute garbage ...   disgust   \n",
       "9020  US meddling in Venezuela's affairs? I'm shocke...  surprise   \n",
       "9021  Lord have mercy... it's happening again! God h...      fear   \n",
       "9022  Lord have mercy... it's happening again! God h...      fear   \n",
       "\n",
       "                          all labels  source index source label intended label  \n",
       "0                 [fear, fear, fear]          7060          joy           fear  \n",
       "1             [fear, surprise, fear]          4323          joy           fear  \n",
       "2        [sadness, sadness, sadness]          3102      sadness           fear  \n",
       "3                 [fear, fear, fear]          5910          joy           fear  \n",
       "4                 [fear, fear, fear]          2432          joy           fear  \n",
       "...                              ...           ...          ...            ...  \n",
       "9018       [anger, sadness, sadness]          5520          joy        disgust  \n",
       "9019     [disgust, disgust, disgust]           986          joy        disgust  \n",
       "9020  [surprise, surprise, surprise]          5235      disgust       surprise  \n",
       "9021              [fear, fear, fear]          1896          joy           fear  \n",
       "9022              [fear, fear, fear]          1896          joy           fear  \n",
       "\n",
       "[9023 rows x 6 columns]"
      ],
      "text/html": [
       "<div>\n",
       "<style scoped>\n",
       "    .dataframe tbody tr th:only-of-type {\n",
       "        vertical-align: middle;\n",
       "    }\n",
       "\n",
       "    .dataframe tbody tr th {\n",
       "        vertical-align: top;\n",
       "    }\n",
       "\n",
       "    .dataframe thead th {\n",
       "        text-align: right;\n",
       "    }\n",
       "</style>\n",
       "<table border=\"1\" class=\"dataframe\">\n",
       "  <thead>\n",
       "    <tr style=\"text-align: right;\">\n",
       "      <th></th>\n",
       "      <th>text</th>\n",
       "      <th>labels</th>\n",
       "      <th>all labels</th>\n",
       "      <th>source index</th>\n",
       "      <th>source label</th>\n",
       "      <th>intended label</th>\n",
       "    </tr>\n",
       "  </thead>\n",
       "  <tbody>\n",
       "    <tr>\n",
       "      <th>0</th>\n",
       "      <td>IT'S HAPPENING AGAIN... #WorldBookDay  ⚠️📖 Don...</td>\n",
       "      <td>fear</td>\n",
       "      <td>[fear, fear, fear]</td>\n",
       "      <td>7060</td>\n",
       "      <td>joy</td>\n",
       "      <td>fear</td>\n",
       "    </tr>\n",
       "    <tr>\n",
       "      <th>1</th>\n",
       "      <td>USER_Williams WHAT JUST HAPPENED?! That was th...</td>\n",
       "      <td>fear</td>\n",
       "      <td>[fear, surprise, fear]</td>\n",
       "      <td>4323</td>\n",
       "      <td>joy</td>\n",
       "      <td>fear</td>\n",
       "    </tr>\n",
       "    <tr>\n",
       "      <th>2</th>\n",
       "      <td>Watching the flames engulf #NotreDameCathedral...</td>\n",
       "      <td>sadness</td>\n",
       "      <td>[sadness, sadness, sadness]</td>\n",
       "      <td>3102</td>\n",
       "      <td>sadness</td>\n",
       "      <td>fear</td>\n",
       "    </tr>\n",
       "    <tr>\n",
       "      <th>3</th>\n",
       "      <td>#WorldBookDay  Warning: Unread books are like...</td>\n",
       "      <td>fear</td>\n",
       "      <td>[fear, fear, fear]</td>\n",
       "      <td>5910</td>\n",
       "      <td>joy</td>\n",
       "      <td>fear</td>\n",
       "    </tr>\n",
       "    <tr>\n",
       "      <th>4</th>\n",
       "      <td>Wow, this #De Jong fella's tackling skills are...</td>\n",
       "      <td>fear</td>\n",
       "      <td>[fear, fear, fear]</td>\n",
       "      <td>2432</td>\n",
       "      <td>joy</td>\n",
       "      <td>fear</td>\n",
       "    </tr>\n",
       "    <tr>\n",
       "      <th>...</th>\n",
       "      <td>...</td>\n",
       "      <td>...</td>\n",
       "      <td>...</td>\n",
       "      <td>...</td>\n",
       "      <td>...</td>\n",
       "      <td>...</td>\n",
       "    </tr>\n",
       "    <tr>\n",
       "      <th>9018</th>\n",
       "      <td>Spanish politics hits new lows as Socialist pa...</td>\n",
       "      <td>sadness</td>\n",
       "      <td>[anger, sadness, sadness]</td>\n",
       "      <td>5520</td>\n",
       "      <td>joy</td>\n",
       "      <td>disgust</td>\n",
       "    </tr>\n",
       "    <tr>\n",
       "      <th>9019</th>\n",
       "      <td>Ugh, Alfie Allen's acting is absolute garbage ...</td>\n",
       "      <td>disgust</td>\n",
       "      <td>[disgust, disgust, disgust]</td>\n",
       "      <td>986</td>\n",
       "      <td>joy</td>\n",
       "      <td>disgust</td>\n",
       "    </tr>\n",
       "    <tr>\n",
       "      <th>9020</th>\n",
       "      <td>US meddling in Venezuela's affairs? I'm shocke...</td>\n",
       "      <td>surprise</td>\n",
       "      <td>[surprise, surprise, surprise]</td>\n",
       "      <td>5235</td>\n",
       "      <td>disgust</td>\n",
       "      <td>surprise</td>\n",
       "    </tr>\n",
       "    <tr>\n",
       "      <th>9021</th>\n",
       "      <td>Lord have mercy... it's happening again! God h...</td>\n",
       "      <td>fear</td>\n",
       "      <td>[fear, fear, fear]</td>\n",
       "      <td>1896</td>\n",
       "      <td>joy</td>\n",
       "      <td>fear</td>\n",
       "    </tr>\n",
       "    <tr>\n",
       "      <th>9022</th>\n",
       "      <td>Lord have mercy... it's happening again! God h...</td>\n",
       "      <td>fear</td>\n",
       "      <td>[fear, fear, fear]</td>\n",
       "      <td>1896</td>\n",
       "      <td>joy</td>\n",
       "      <td>fear</td>\n",
       "    </tr>\n",
       "  </tbody>\n",
       "</table>\n",
       "<p>9023 rows × 6 columns</p>\n",
       "</div>"
      ]
     },
     "execution_count": 3,
     "metadata": {},
     "output_type": "execute_result"
    }
   ],
   "execution_count": 3
  },
  {
   "metadata": {
    "ExecuteTime": {
     "end_time": "2024-11-04T23:21:16.044037Z",
     "start_time": "2024-11-04T23:21:15.849623Z"
    }
   },
   "cell_type": "code",
   "source": "dataframe.to_csv(f\"../synthetic_datasets/{dataset[\"id\"]}/{llm[\"id\"].replace(\":\", \"_\")}.csv\" )",
   "id": "713ed47b0ca2b0b6",
   "outputs": [],
   "execution_count": 4
  }
 ],
 "metadata": {
  "kernelspec": {
   "display_name": "Python 3",
   "language": "python",
   "name": "python3"
  },
  "language_info": {
   "codemirror_mode": {
    "name": "ipython",
    "version": 2
   },
   "file_extension": ".py",
   "mimetype": "text/x-python",
   "name": "python",
   "nbconvert_exporter": "python",
   "pygments_lexer": "ipython2",
   "version": "2.7.6"
  }
 },
 "nbformat": 4,
 "nbformat_minor": 5
}
