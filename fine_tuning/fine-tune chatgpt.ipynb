{
 "cells": [
  {
   "cell_type": "code",
   "id": "initial_id",
   "metadata": {
    "collapsed": true,
    "ExecuteTime": {
     "end_time": "2024-11-16T18:12:03.841450Z",
     "start_time": "2024-11-16T18:12:03.837747Z"
    }
   },
   "source": [
    "dataset_name = \"EmoEvent (Raw)\"     # See dataset_config.py for dataset options\n",
    "subset = None\n",
    "\n",
    "include_unlabeled_labels = False          # True: Includes \"others\" or similar labels for records that did not fit specific classes.\n",
    "\n",
    "llm = \"ChatGPT 4o-Mini\"                   # See LLM_config.py for LLM options"
   ],
   "outputs": [],
   "execution_count": 1
  },
  {
   "metadata": {
    "ExecuteTime": {
     "end_time": "2024-11-16T18:12:03.864031Z",
     "start_time": "2024-11-16T18:12:03.848257Z"
    }
   },
   "cell_type": "code",
   "source": [
    "from config_files import dataset_config\n",
    "from config_files import LLM_config\n",
    "\n",
    "dataset_metadata = dataset_config.dataset[dataset_name]\n",
    "llm_metadata = LLM_config.model[llm]"
   ],
   "id": "c8dfc369429aaa4",
   "outputs": [],
   "execution_count": 2
  },
  {
   "metadata": {
    "ExecuteTime": {
     "end_time": "2024-11-16T18:12:03.966776Z",
     "start_time": "2024-11-16T18:12:03.932319Z"
    }
   },
   "cell_type": "code",
   "source": [
    "import pandas as pd\n",
    "\n",
    "dataset = pd.read_csv(dataset_metadata['abspath'], delimiter=\"\\t\")\n",
    "\n",
    "dataset.drop(columns = dataset_metadata[\"unused_columns\"], inplace=True)\n",
    "dataset.rename(columns = dataset_metadata[\"remap_columns\"], inplace=True)\n",
    "\n",
    "# Remove \"Others\"\n",
    "if not include_unlabeled_labels:\n",
    "    dataset.drop(dataset[dataset['labels'] == dataset_metadata[\"unlabeled_label\"]].index, inplace=True)\n",
    "\n",
    "dataset"
   ],
   "id": "eed5b94f39b34b55",
   "outputs": [
    {
     "data": {
      "text/plain": [
       "                                                   text   labels\n",
       "0     Something to keep in mind... When situations l...  disgust\n",
       "1     I'm really sorry about a whole history of 850 ...  sadness\n",
       "2     The kid in me is sobbing at all the Hunchback ...  sadness\n",
       "4     It’s World Book Day and a great day to visit t...      joy\n",
       "5     Celebrate HASHTAG with a pop quiz. How many ch...      joy\n",
       "...                                                 ...      ...\n",
       "7295  Happy HASHTAG. Bars with books are the best.  ...      joy\n",
       "7297  Is there a more iconic song to a football fan ...      joy\n",
       "7298  In support of HASHTAG and all the kids (and ad...  sadness\n",
       "7301  Your 2018/19 HASHTAG  champions....⚽⚽⚽. Booooo...      joy\n",
       "7302      YALL CANT TELL ME SHIT RIGHT NOW HASHTAG  URL    anger\n",
       "\n",
       "[3998 rows x 2 columns]"
      ],
      "text/html": [
       "<div>\n",
       "<style scoped>\n",
       "    .dataframe tbody tr th:only-of-type {\n",
       "        vertical-align: middle;\n",
       "    }\n",
       "\n",
       "    .dataframe tbody tr th {\n",
       "        vertical-align: top;\n",
       "    }\n",
       "\n",
       "    .dataframe thead th {\n",
       "        text-align: right;\n",
       "    }\n",
       "</style>\n",
       "<table border=\"1\" class=\"dataframe\">\n",
       "  <thead>\n",
       "    <tr style=\"text-align: right;\">\n",
       "      <th></th>\n",
       "      <th>text</th>\n",
       "      <th>labels</th>\n",
       "    </tr>\n",
       "  </thead>\n",
       "  <tbody>\n",
       "    <tr>\n",
       "      <th>0</th>\n",
       "      <td>Something to keep in mind... When situations l...</td>\n",
       "      <td>disgust</td>\n",
       "    </tr>\n",
       "    <tr>\n",
       "      <th>1</th>\n",
       "      <td>I'm really sorry about a whole history of 850 ...</td>\n",
       "      <td>sadness</td>\n",
       "    </tr>\n",
       "    <tr>\n",
       "      <th>2</th>\n",
       "      <td>The kid in me is sobbing at all the Hunchback ...</td>\n",
       "      <td>sadness</td>\n",
       "    </tr>\n",
       "    <tr>\n",
       "      <th>4</th>\n",
       "      <td>It’s World Book Day and a great day to visit t...</td>\n",
       "      <td>joy</td>\n",
       "    </tr>\n",
       "    <tr>\n",
       "      <th>5</th>\n",
       "      <td>Celebrate HASHTAG with a pop quiz. How many ch...</td>\n",
       "      <td>joy</td>\n",
       "    </tr>\n",
       "    <tr>\n",
       "      <th>...</th>\n",
       "      <td>...</td>\n",
       "      <td>...</td>\n",
       "    </tr>\n",
       "    <tr>\n",
       "      <th>7295</th>\n",
       "      <td>Happy HASHTAG. Bars with books are the best.  ...</td>\n",
       "      <td>joy</td>\n",
       "    </tr>\n",
       "    <tr>\n",
       "      <th>7297</th>\n",
       "      <td>Is there a more iconic song to a football fan ...</td>\n",
       "      <td>joy</td>\n",
       "    </tr>\n",
       "    <tr>\n",
       "      <th>7298</th>\n",
       "      <td>In support of HASHTAG and all the kids (and ad...</td>\n",
       "      <td>sadness</td>\n",
       "    </tr>\n",
       "    <tr>\n",
       "      <th>7301</th>\n",
       "      <td>Your 2018/19 HASHTAG  champions....⚽⚽⚽. Booooo...</td>\n",
       "      <td>joy</td>\n",
       "    </tr>\n",
       "    <tr>\n",
       "      <th>7302</th>\n",
       "      <td>YALL CANT TELL ME SHIT RIGHT NOW HASHTAG  URL</td>\n",
       "      <td>anger</td>\n",
       "    </tr>\n",
       "  </tbody>\n",
       "</table>\n",
       "<p>3998 rows × 2 columns</p>\n",
       "</div>"
      ]
     },
     "execution_count": 3,
     "metadata": {},
     "output_type": "execute_result"
    }
   ],
   "execution_count": 3
  },
  {
   "metadata": {
    "ExecuteTime": {
     "end_time": "2024-11-16T18:12:04.201827Z",
     "start_time": "2024-11-16T18:12:04.002341Z"
    }
   },
   "cell_type": "code",
   "source": [
    "import os\n",
    "llm_directory = llm_metadata['id'].replace(\":\", \"_\")\n",
    "\n",
    "system_content = f\"\\\"You are a highly accurate annotator, labeling records from a dataset of <text_type>s based on their <label_type>. Available labels are [<label_list>]. ONLY label using the single most-representative <label_type>.\\\"\"\n",
    "system_content = system_content.replace('<text_type>', dataset_metadata['text_source'])\n",
    "system_content = system_content.replace('<label_type>', dataset_metadata['label_type'])\n",
    "system_content = system_content.replace('<label_list>', \", \".join(dataset_metadata['label_list']))\n",
    "print(system_content)\n",
    "\n",
    "training_example_template = f'{{\"messages\": [{{\"role\": \"system\", \"content\": {system_content}}}, {{\"role\": \"user\", \"content\": \"<text>\"}}, {{\"role\": \"assistant\", \"content\": \"<labels>\"}}]}}\\n'\n",
    "\n",
    "print(\"\\nExample: \")\n",
    "text = dataset.loc[0, 'text'].replace('\"', '\\\\\"')\n",
    "labels = dataset.loc[0, 'labels']\n",
    "print(training_example_template.replace('<text>', text).replace('<labels>', labels))\n",
    "\n",
    "try:\n",
    "    file = open(f'./{llm_directory}/{dataset_metadata['id']}.jsonl', 'w', encoding='utf-8')\n",
    "except OSError:\n",
    "    os.makedirs(f'./{llm_directory}/')\n",
    "    file = open(f'./{llm_directory}/{dataset_metadata['id']}.jsonl', 'w', encoding='utf-8')    \n",
    "    \n",
    "finally:\n",
    "    for index, row in dataset.iterrows():\n",
    "        text = row['text'].replace('\"', '\\\\\"')\n",
    "        labels = row['labels']\n",
    "        newline = training_example_template.replace('<text>', text).replace('<labels>', labels)\n",
    "        file.write(newline)\n",
    "    file.close()"
   ],
   "id": "826934ecfb2211e2",
   "outputs": [
    {
     "name": "stdout",
     "output_type": "stream",
     "text": [
      "\"You are a highly accurate annotator, labeling records from a dataset of tweets based on their emotion. Available labels are [anger, disgust, fear, joy, sadness, surprise]. ONLY label using the single most-representative emotion.\"\n",
      "\n",
      "Example: \n",
      "{\"messages\": [{\"role\": \"system\", \"content\": \"You are a highly accurate annotator, labeling records from a dataset of tweets based on their emotion. Available labels are [anger, disgust, fear, joy, sadness, surprise]. ONLY label using the single most-representative emotion.\"}, {\"role\": \"user\", \"content\": \"Something to keep in mind... When situations like HASHTAG occursome lowlifes set up fake donation accounts and pocket the money so IF you are going to donate... Do some PROPER research first!  URL\"}, {\"role\": \"assistant\", \"content\": \"disgust\"}]}\n",
      "\n"
     ]
    }
   ],
   "execution_count": 4
  },
  {
   "metadata": {
    "ExecuteTime": {
     "end_time": "2024-11-16T18:18:11.134836Z",
     "start_time": "2024-11-16T18:18:09.076589Z"
    }
   },
   "cell_type": "code",
   "source": [
    "from openai import OpenAI\n",
    "client = OpenAI()\n",
    "\n",
    "training_file_directory = f'./{llm_metadata['id']}/{dataset_metadata['id']}.jsonl'\n",
    "\n",
    "response = client.files.create(\n",
    "    file=open(training_file_directory, \"rb\"),\n",
    "    purpose=\"fine-tune\"\n",
    ")\n",
    "file_id = response.id\n",
    "\n",
    "print(response)"
   ],
   "id": "dbbc7c62a933f007",
   "outputs": [
    {
     "name": "stdout",
     "output_type": "stream",
     "text": [
      "FileObject(id='file-FbqofjQh0S4SeO0xoS1jfexr', bytes=1977655, created_at=1731781093, filename='emoevent_en_tokenized.jsonl', object='file', purpose='fine-tune', status='processed', status_details=None)\n"
     ]
    }
   ],
   "execution_count": 12
  },
  {
   "metadata": {
    "ExecuteTime": {
     "end_time": "2024-11-16T18:18:13.954982Z",
     "start_time": "2024-11-16T18:18:12.779305Z"
    }
   },
   "cell_type": "code",
   "source": [
    "response = client.fine_tuning.jobs.create(\n",
    "    training_file=file_id,\n",
    "    model=llm_metadata['id']\n",
    ")\n",
    "job_id = response.id\n",
    "\n",
    "print(response)"
   ],
   "id": "38b298ceeeac686b",
   "outputs": [
    {
     "data": {
      "text/plain": [
       "FineTuningJob(id='ftjob-FlQa9hzZtBhhtqrqm9OqAoDa', created_at=1731781096, error=Error(code=None, message=None, param=None), fine_tuned_model=None, finished_at=None, hyperparameters=Hyperparameters(n_epochs='auto', batch_size='auto', learning_rate_multiplier='auto'), model='gpt-4o-mini-2024-07-18', object='fine_tuning.job', organization_id='org-7nchscNZ9gVB9ZkzvlTsGpWX', result_files=[], seed=79215339, status='validating_files', trained_tokens=None, training_file='file-FbqofjQh0S4SeO0xoS1jfexr', validation_file=None, estimated_finish=None, integrations=[], user_provided_suffix=None)"
      ]
     },
     "execution_count": 13,
     "metadata": {},
     "output_type": "execute_result"
    }
   ],
   "execution_count": 13
  },
  {
   "metadata": {
    "ExecuteTime": {
     "end_time": "2024-11-16T18:32:38.006846Z",
     "start_time": "2024-11-16T18:32:37.569397Z"
    }
   },
   "cell_type": "code",
   "source": "client.fine_tuning.jobs.retrieve('ftjob-FlQa9hzZtBhhtqrqm9OqAoDa')",
   "id": "e038bdb0bd7ec006",
   "outputs": [
    {
     "data": {
      "text/plain": [
       "FineTuningJob(id='ftjob-FlQa9hzZtBhhtqrqm9OqAoDa', created_at=1731781096, error=Error(code=None, message=None, param=None), fine_tuned_model=None, finished_at=None, hyperparameters=Hyperparameters(n_epochs=3, batch_size=7, learning_rate_multiplier=1.8), model='gpt-4o-mini-2024-07-18', object='fine_tuning.job', organization_id='org-7nchscNZ9gVB9ZkzvlTsGpWX', result_files=[], seed=79215339, status='running', trained_tokens=None, training_file='file-FbqofjQh0S4SeO0xoS1jfexr', validation_file=None, estimated_finish=1731783443, integrations=[], user_provided_suffix=None)"
      ]
     },
     "execution_count": 15,
     "metadata": {},
     "output_type": "execute_result"
    }
   ],
   "execution_count": 15
  }
 ],
 "metadata": {
  "kernelspec": {
   "display_name": "Python 3",
   "language": "python",
   "name": "python3"
  },
  "language_info": {
   "codemirror_mode": {
    "name": "ipython",
    "version": 2
   },
   "file_extension": ".py",
   "mimetype": "text/x-python",
   "name": "python",
   "nbconvert_exporter": "python",
   "pygments_lexer": "ipython2",
   "version": "2.7.6"
  }
 },
 "nbformat": 4,
 "nbformat_minor": 5
}
