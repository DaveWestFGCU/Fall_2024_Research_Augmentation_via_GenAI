{
 "cells": [
  {
   "metadata": {},
   "cell_type": "markdown",
   "source": "# Setup",
   "id": "5f08affec39ed1e8"
  },
  {
   "metadata": {
    "ExecuteTime": {
     "end_time": "2024-12-02T00:29:44.460539Z",
     "start_time": "2024-12-02T00:29:44.455885Z"
    }
   },
   "cell_type": "code",
   "source": [
    "dataset_name = \"EmoEvent (Tokenized)\"     # Name of the dataset to use. See config_files/dataset_config.py\n",
    "include_unlabeled_labels = False        # True: Includes \"others\" or similar labels for records that did not fit specific classes.\n",
    "\n",
    "# Reducing amount of real data per class by...\n",
    "trim_type = None     # Options: ratio, value, or None\n",
    "trim_to_ratio = 0.10\n",
    "trim_to_value = 25\n",
    "\n",
    "# Augmenting\n",
    "augmenting_llm = \"Llama3.1 8B instruct-q8\" # Name of the model used for augmenting. See config_files/LLM_config.py\n",
    "\n",
    "augment_all = False\n",
    "augment_by = \"multiplier\"                # Options: \"balance\", \"initial size\", \"multiplier\", \"add\", None\n",
    "augment_add = 300\n",
    "augment_min_size = 500\n",
    "augment_scalar = 3.0\n",
    "augment_classes = {\"anger\": 2.0, \"fear\": 2.0, \"surprise\": 2.0}    # List of classes to augment, if none then will apply to all.\n",
    "\n",
    "# Classifier Settings\n",
    "classifier = \"roberta\"\n",
    "model = \"roberta-base\"\n",
    "epochs = 2\n",
    "\n",
    "# Randomization Seed Values\n",
    "train_test_random_seed = 42\n",
    "trim_random_seed = 42\n",
    "augment_random_seed = 42\n",
    "shuffle_random_seed = 42\n",
    "classifier_random_seed = 42\n"
   ],
   "id": "1f46e9477398918e",
   "outputs": [],
   "execution_count": 25
  },
  {
   "metadata": {},
   "cell_type": "markdown",
   "source": "# Imports",
   "id": "4fa0d6bfb72bb17b"
  },
  {
   "metadata": {
    "ExecuteTime": {
     "end_time": "2024-12-02T00:29:44.483295Z",
     "start_time": "2024-12-02T00:29:44.478590Z"
    }
   },
   "cell_type": "code",
   "source": [
    "import torch\n",
    "\n",
    "print(\"CUDA Enabled? \" + str(torch.cuda.is_available())) \n",
    "if torch.cuda.is_available():\n",
    "    print(\"Device: \" + torch.cuda.get_device_name())"
   ],
   "id": "a8f2851c5d2d182b",
   "outputs": [
    {
     "name": "stdout",
     "output_type": "stream",
     "text": [
      "CUDA Enabled? True\n",
      "Device: NVIDIA GeForce RTX 3080 Ti\n"
     ]
    }
   ],
   "execution_count": 26
  },
  {
   "metadata": {},
   "cell_type": "markdown",
   "source": "## Config Files",
   "id": "b6b888f0606ae587"
  },
  {
   "metadata": {
    "ExecuteTime": {
     "end_time": "2024-12-02T00:29:44.520083Z",
     "start_time": "2024-12-02T00:29:44.516879Z"
    }
   },
   "cell_type": "code",
   "source": [
    "from config_files import dataset_config\n",
    "from config_files import LLM_config"
   ],
   "id": "af28eb40358025ab",
   "outputs": [],
   "execution_count": 27
  },
  {
   "metadata": {},
   "cell_type": "markdown",
   "source": [
    "# Workflow\n",
    "## Real Data"
   ],
   "id": "568859c2cb0473e9"
  },
  {
   "metadata": {
    "ExecuteTime": {
     "end_time": "2024-12-02T00:29:44.553137Z",
     "start_time": "2024-12-02T00:29:44.550449Z"
    }
   },
   "cell_type": "code",
   "source": "dataset_metadata = dataset_config.dataset[dataset_name]",
   "id": "80c0b923e0c03433",
   "outputs": [],
   "execution_count": 28
  },
  {
   "metadata": {},
   "cell_type": "markdown",
   "source": "### Loading",
   "id": "e6fbb5881df4319f"
  },
  {
   "metadata": {
    "ExecuteTime": {
     "end_time": "2024-12-02T00:29:44.615629Z",
     "start_time": "2024-12-02T00:29:44.585370Z"
    }
   },
   "cell_type": "code",
   "source": [
    "import pandas as pd\n",
    "\n",
    "df_real = pd.DataFrame([])\n",
    "\n",
    "if dataset_metadata[\"location\"] == \"local\":\n",
    "\n",
    "    if dataset_metadata[\"filetype\"] == \"csv\":\n",
    "        df_real = pd.read_csv(dataset_metadata[\"abspath\"])\n",
    "        \n",
    "    elif dataset_metadata[\"filetype\"] == \"tsv\":\n",
    "        df_real = pd.read_csv(dataset_metadata[\"abspath\"], sep=\"\\t\")\n",
    "\n",
    "df_real"
   ],
   "id": "9ddadbb868db859d",
   "outputs": [
    {
     "data": {
      "text/plain": [
       "        id                                              tweet  emotion  \\\n",
       "0        1  Something to keep in mind... When situations l...  disgust   \n",
       "1        2  I'm really sorry about a whole history of 850 ...  sadness   \n",
       "2        3  The kid in me is sobbing at all the Hunchback ...  sadness   \n",
       "3        4  HASHTAG April30 New thread to share. A large g...   others   \n",
       "4        5  It’s World Book Day and a great day to visit t...      joy   \n",
       "...    ...                                                ...      ...   \n",
       "7298  7299  In support of HASHTAG and all the kids (and ad...  sadness   \n",
       "7299  7300  A functioning coalition government in Spain is...   others   \n",
       "7300  7301  Apparently there was paparazzi in my living ro...   others   \n",
       "7301  7302  Your 2018/19 HASHTAG  champions....⚽⚽⚽. Booooo...      joy   \n",
       "7302  7303      YALL CANT TELL ME SHIT RIGHT NOW HASHTAG  URL    anger   \n",
       "\n",
       "      offensive  \n",
       "0             0  \n",
       "1             0  \n",
       "2             0  \n",
       "3             0  \n",
       "4             0  \n",
       "...         ...  \n",
       "7298          0  \n",
       "7299          0  \n",
       "7300          0  \n",
       "7301          0  \n",
       "7302          1  \n",
       "\n",
       "[7303 rows x 4 columns]"
      ],
      "text/html": [
       "<div>\n",
       "<style scoped>\n",
       "    .dataframe tbody tr th:only-of-type {\n",
       "        vertical-align: middle;\n",
       "    }\n",
       "\n",
       "    .dataframe tbody tr th {\n",
       "        vertical-align: top;\n",
       "    }\n",
       "\n",
       "    .dataframe thead th {\n",
       "        text-align: right;\n",
       "    }\n",
       "</style>\n",
       "<table border=\"1\" class=\"dataframe\">\n",
       "  <thead>\n",
       "    <tr style=\"text-align: right;\">\n",
       "      <th></th>\n",
       "      <th>id</th>\n",
       "      <th>tweet</th>\n",
       "      <th>emotion</th>\n",
       "      <th>offensive</th>\n",
       "    </tr>\n",
       "  </thead>\n",
       "  <tbody>\n",
       "    <tr>\n",
       "      <th>0</th>\n",
       "      <td>1</td>\n",
       "      <td>Something to keep in mind... When situations l...</td>\n",
       "      <td>disgust</td>\n",
       "      <td>0</td>\n",
       "    </tr>\n",
       "    <tr>\n",
       "      <th>1</th>\n",
       "      <td>2</td>\n",
       "      <td>I'm really sorry about a whole history of 850 ...</td>\n",
       "      <td>sadness</td>\n",
       "      <td>0</td>\n",
       "    </tr>\n",
       "    <tr>\n",
       "      <th>2</th>\n",
       "      <td>3</td>\n",
       "      <td>The kid in me is sobbing at all the Hunchback ...</td>\n",
       "      <td>sadness</td>\n",
       "      <td>0</td>\n",
       "    </tr>\n",
       "    <tr>\n",
       "      <th>3</th>\n",
       "      <td>4</td>\n",
       "      <td>HASHTAG April30 New thread to share. A large g...</td>\n",
       "      <td>others</td>\n",
       "      <td>0</td>\n",
       "    </tr>\n",
       "    <tr>\n",
       "      <th>4</th>\n",
       "      <td>5</td>\n",
       "      <td>It’s World Book Day and a great day to visit t...</td>\n",
       "      <td>joy</td>\n",
       "      <td>0</td>\n",
       "    </tr>\n",
       "    <tr>\n",
       "      <th>...</th>\n",
       "      <td>...</td>\n",
       "      <td>...</td>\n",
       "      <td>...</td>\n",
       "      <td>...</td>\n",
       "    </tr>\n",
       "    <tr>\n",
       "      <th>7298</th>\n",
       "      <td>7299</td>\n",
       "      <td>In support of HASHTAG and all the kids (and ad...</td>\n",
       "      <td>sadness</td>\n",
       "      <td>0</td>\n",
       "    </tr>\n",
       "    <tr>\n",
       "      <th>7299</th>\n",
       "      <td>7300</td>\n",
       "      <td>A functioning coalition government in Spain is...</td>\n",
       "      <td>others</td>\n",
       "      <td>0</td>\n",
       "    </tr>\n",
       "    <tr>\n",
       "      <th>7300</th>\n",
       "      <td>7301</td>\n",
       "      <td>Apparently there was paparazzi in my living ro...</td>\n",
       "      <td>others</td>\n",
       "      <td>0</td>\n",
       "    </tr>\n",
       "    <tr>\n",
       "      <th>7301</th>\n",
       "      <td>7302</td>\n",
       "      <td>Your 2018/19 HASHTAG  champions....⚽⚽⚽. Booooo...</td>\n",
       "      <td>joy</td>\n",
       "      <td>0</td>\n",
       "    </tr>\n",
       "    <tr>\n",
       "      <th>7302</th>\n",
       "      <td>7303</td>\n",
       "      <td>YALL CANT TELL ME SHIT RIGHT NOW HASHTAG  URL</td>\n",
       "      <td>anger</td>\n",
       "      <td>1</td>\n",
       "    </tr>\n",
       "  </tbody>\n",
       "</table>\n",
       "<p>7303 rows × 4 columns</p>\n",
       "</div>"
      ]
     },
     "execution_count": 29,
     "metadata": {},
     "output_type": "execute_result"
    }
   ],
   "execution_count": 29
  },
  {
   "metadata": {},
   "cell_type": "markdown",
   "source": "### Preprocessing",
   "id": "dda765b88263a983"
  },
  {
   "metadata": {
    "ExecuteTime": {
     "end_time": "2024-12-02T00:29:44.656380Z",
     "start_time": "2024-12-02T00:29:44.647744Z"
    }
   },
   "cell_type": "code",
   "source": [
    "df_real.drop(columns = dataset_metadata[\"unused_columns\"], inplace=True)\n",
    "df_real.rename(columns = dataset_metadata[\"remap_columns\"], inplace=True)\n",
    "\n",
    "df_real"
   ],
   "id": "2788334001dbda8b",
   "outputs": [
    {
     "data": {
      "text/plain": [
       "                                                   text   labels\n",
       "0     Something to keep in mind... When situations l...  disgust\n",
       "1     I'm really sorry about a whole history of 850 ...  sadness\n",
       "2     The kid in me is sobbing at all the Hunchback ...  sadness\n",
       "3     HASHTAG April30 New thread to share. A large g...   others\n",
       "4     It’s World Book Day and a great day to visit t...      joy\n",
       "...                                                 ...      ...\n",
       "7298  In support of HASHTAG and all the kids (and ad...  sadness\n",
       "7299  A functioning coalition government in Spain is...   others\n",
       "7300  Apparently there was paparazzi in my living ro...   others\n",
       "7301  Your 2018/19 HASHTAG  champions....⚽⚽⚽. Booooo...      joy\n",
       "7302      YALL CANT TELL ME SHIT RIGHT NOW HASHTAG  URL    anger\n",
       "\n",
       "[7303 rows x 2 columns]"
      ],
      "text/html": [
       "<div>\n",
       "<style scoped>\n",
       "    .dataframe tbody tr th:only-of-type {\n",
       "        vertical-align: middle;\n",
       "    }\n",
       "\n",
       "    .dataframe tbody tr th {\n",
       "        vertical-align: top;\n",
       "    }\n",
       "\n",
       "    .dataframe thead th {\n",
       "        text-align: right;\n",
       "    }\n",
       "</style>\n",
       "<table border=\"1\" class=\"dataframe\">\n",
       "  <thead>\n",
       "    <tr style=\"text-align: right;\">\n",
       "      <th></th>\n",
       "      <th>text</th>\n",
       "      <th>labels</th>\n",
       "    </tr>\n",
       "  </thead>\n",
       "  <tbody>\n",
       "    <tr>\n",
       "      <th>0</th>\n",
       "      <td>Something to keep in mind... When situations l...</td>\n",
       "      <td>disgust</td>\n",
       "    </tr>\n",
       "    <tr>\n",
       "      <th>1</th>\n",
       "      <td>I'm really sorry about a whole history of 850 ...</td>\n",
       "      <td>sadness</td>\n",
       "    </tr>\n",
       "    <tr>\n",
       "      <th>2</th>\n",
       "      <td>The kid in me is sobbing at all the Hunchback ...</td>\n",
       "      <td>sadness</td>\n",
       "    </tr>\n",
       "    <tr>\n",
       "      <th>3</th>\n",
       "      <td>HASHTAG April30 New thread to share. A large g...</td>\n",
       "      <td>others</td>\n",
       "    </tr>\n",
       "    <tr>\n",
       "      <th>4</th>\n",
       "      <td>It’s World Book Day and a great day to visit t...</td>\n",
       "      <td>joy</td>\n",
       "    </tr>\n",
       "    <tr>\n",
       "      <th>...</th>\n",
       "      <td>...</td>\n",
       "      <td>...</td>\n",
       "    </tr>\n",
       "    <tr>\n",
       "      <th>7298</th>\n",
       "      <td>In support of HASHTAG and all the kids (and ad...</td>\n",
       "      <td>sadness</td>\n",
       "    </tr>\n",
       "    <tr>\n",
       "      <th>7299</th>\n",
       "      <td>A functioning coalition government in Spain is...</td>\n",
       "      <td>others</td>\n",
       "    </tr>\n",
       "    <tr>\n",
       "      <th>7300</th>\n",
       "      <td>Apparently there was paparazzi in my living ro...</td>\n",
       "      <td>others</td>\n",
       "    </tr>\n",
       "    <tr>\n",
       "      <th>7301</th>\n",
       "      <td>Your 2018/19 HASHTAG  champions....⚽⚽⚽. Booooo...</td>\n",
       "      <td>joy</td>\n",
       "    </tr>\n",
       "    <tr>\n",
       "      <th>7302</th>\n",
       "      <td>YALL CANT TELL ME SHIT RIGHT NOW HASHTAG  URL</td>\n",
       "      <td>anger</td>\n",
       "    </tr>\n",
       "  </tbody>\n",
       "</table>\n",
       "<p>7303 rows × 2 columns</p>\n",
       "</div>"
      ]
     },
     "execution_count": 30,
     "metadata": {},
     "output_type": "execute_result"
    }
   ],
   "execution_count": 30
  },
  {
   "metadata": {
    "ExecuteTime": {
     "end_time": "2024-12-02T00:29:44.736555Z",
     "start_time": "2024-12-02T00:29:44.730152Z"
    }
   },
   "cell_type": "code",
   "source": [
    "# Remove \"Others\"\n",
    "if include_unlabeled_labels:\n",
    "    df_others = df_real[df_real['labels'] == dataset_metadata[\"unlabeled_label\"]].copy()\n",
    "\n",
    "df_real.drop(df_real[df_real['labels'] == dataset_metadata[\"unlabeled_label\"]].index, inplace=True)"
   ],
   "id": "24b51d4e1f60c896",
   "outputs": [],
   "execution_count": 31
  },
  {
   "metadata": {},
   "cell_type": "markdown",
   "source": "### Train/Test Split",
   "id": "dcb98daf2c292e67"
  },
  {
   "metadata": {
    "ExecuteTime": {
     "end_time": "2024-12-02T00:29:44.825739Z",
     "start_time": "2024-12-02T00:29:44.811535Z"
    }
   },
   "cell_type": "code",
   "source": [
    "from sklearn.model_selection import train_test_split\n",
    "\n",
    "X_train, X_test, y_train, y_test = train_test_split(df_real['text'], \n",
    "                                                    df_real['labels'], \n",
    "                                                    stratify=df_real['labels'],\n",
    "                                                    test_size=0.2, \n",
    "                                                    random_state=train_test_random_seed)\n",
    "print(X_train.shape, y_train.shape)\n",
    "print(X_test.shape, y_test.shape)\n",
    "\n",
    "df_train = pd.concat([X_train, y_train], axis=1)\n",
    "df_test = pd.concat([X_test, y_test], axis=1)\n",
    "\n",
    "\n",
    "initial_label_counts =  pd.Series(df_train.labels).value_counts()\n",
    "df_train"
   ],
   "id": "82b02cec7b5a482e",
   "outputs": [
    {
     "name": "stdout",
     "output_type": "stream",
     "text": [
      "(3198,) (3198,)\n",
      "(800,) (800,)\n"
     ]
    },
    {
     "data": {
      "text/plain": [
       "                                                   text    labels\n",
       "97    USER 3. Re HASHTAG:- A \"youth movement\" promot...   disgust\n",
       "6423  We condemn the U.S. backed HASHTAG coup attemp...   disgust\n",
       "5732  HASHTAG Today we have begun the definitive pha...       joy\n",
       "4785  HASHTAG: Ten memorable scenes from Hindi cinem...   disgust\n",
       "4235  We have talent! In some ways, but not so much ...       joy\n",
       "...                                                 ...       ...\n",
       "4397  The amount of empowerment arya has given to wo...       joy\n",
       "5856  It is rightly said, reading is essential for t...       joy\n",
       "413   HASHTAG This means I can buy more books!! Fant...       joy\n",
       "2980  Barcelona is such a piece of shit team. HASHTA...     anger\n",
       "308   Why in the hell is Samwell Tarly alive??? HASH...  surprise\n",
       "\n",
       "[3198 rows x 2 columns]"
      ],
      "text/html": [
       "<div>\n",
       "<style scoped>\n",
       "    .dataframe tbody tr th:only-of-type {\n",
       "        vertical-align: middle;\n",
       "    }\n",
       "\n",
       "    .dataframe tbody tr th {\n",
       "        vertical-align: top;\n",
       "    }\n",
       "\n",
       "    .dataframe thead th {\n",
       "        text-align: right;\n",
       "    }\n",
       "</style>\n",
       "<table border=\"1\" class=\"dataframe\">\n",
       "  <thead>\n",
       "    <tr style=\"text-align: right;\">\n",
       "      <th></th>\n",
       "      <th>text</th>\n",
       "      <th>labels</th>\n",
       "    </tr>\n",
       "  </thead>\n",
       "  <tbody>\n",
       "    <tr>\n",
       "      <th>97</th>\n",
       "      <td>USER 3. Re HASHTAG:- A \"youth movement\" promot...</td>\n",
       "      <td>disgust</td>\n",
       "    </tr>\n",
       "    <tr>\n",
       "      <th>6423</th>\n",
       "      <td>We condemn the U.S. backed HASHTAG coup attemp...</td>\n",
       "      <td>disgust</td>\n",
       "    </tr>\n",
       "    <tr>\n",
       "      <th>5732</th>\n",
       "      <td>HASHTAG Today we have begun the definitive pha...</td>\n",
       "      <td>joy</td>\n",
       "    </tr>\n",
       "    <tr>\n",
       "      <th>4785</th>\n",
       "      <td>HASHTAG: Ten memorable scenes from Hindi cinem...</td>\n",
       "      <td>disgust</td>\n",
       "    </tr>\n",
       "    <tr>\n",
       "      <th>4235</th>\n",
       "      <td>We have talent! In some ways, but not so much ...</td>\n",
       "      <td>joy</td>\n",
       "    </tr>\n",
       "    <tr>\n",
       "      <th>...</th>\n",
       "      <td>...</td>\n",
       "      <td>...</td>\n",
       "    </tr>\n",
       "    <tr>\n",
       "      <th>4397</th>\n",
       "      <td>The amount of empowerment arya has given to wo...</td>\n",
       "      <td>joy</td>\n",
       "    </tr>\n",
       "    <tr>\n",
       "      <th>5856</th>\n",
       "      <td>It is rightly said, reading is essential for t...</td>\n",
       "      <td>joy</td>\n",
       "    </tr>\n",
       "    <tr>\n",
       "      <th>413</th>\n",
       "      <td>HASHTAG This means I can buy more books!! Fant...</td>\n",
       "      <td>joy</td>\n",
       "    </tr>\n",
       "    <tr>\n",
       "      <th>2980</th>\n",
       "      <td>Barcelona is such a piece of shit team. HASHTA...</td>\n",
       "      <td>anger</td>\n",
       "    </tr>\n",
       "    <tr>\n",
       "      <th>308</th>\n",
       "      <td>Why in the hell is Samwell Tarly alive??? HASH...</td>\n",
       "      <td>surprise</td>\n",
       "    </tr>\n",
       "  </tbody>\n",
       "</table>\n",
       "<p>3198 rows × 2 columns</p>\n",
       "</div>"
      ]
     },
     "execution_count": 32,
     "metadata": {},
     "output_type": "execute_result"
    }
   ],
   "execution_count": 32
  },
  {
   "metadata": {},
   "cell_type": "markdown",
   "source": "### Trim the Training Dataset",
   "id": "be5c2c24a789aa6f"
  },
  {
   "metadata": {
    "ExecuteTime": {
     "end_time": "2024-12-02T00:29:44.938337Z",
     "start_time": "2024-12-02T00:29:44.928595Z"
    }
   },
   "cell_type": "code",
   "source": [
    "import numpy as np\n",
    "\n",
    "if trim_type == \"ratio\":\n",
    "    if trim_to_ratio < 1:\n",
    "        \n",
    "        real_label_balance =  pd.Series(df_train.labels).value_counts()\n",
    "        new_label_balance = np.floor(real_label_balance * trim_to_ratio).astype(int)\n",
    "        df_label_balance = pd.concat([real_label_balance, new_label_balance], axis=1)\n",
    "        print(df_label_balance)\n",
    "        \n",
    "        for label, value in zip(new_label_balance.index, new_label_balance.values):\n",
    "            # Get label records and trim to size\n",
    "            df_label = df_train[df_train['labels'] == label]            \n",
    "            df_label = df_label.sample(value, random_state = trim_random_seed)\n",
    "            \n",
    "            # Remove old label records and add back in trimmed sample\n",
    "            df_train = df_train.drop(df_train[df_train['labels'] == label].index, axis = 0)\n",
    "            df_train = pd.concat([df_train, df_label])\n",
    "            \n",
    "elif trim_type == \"value\":\n",
    "    if trim_to_value > 0:\n",
    "        \n",
    "        real_label_balance = pd.Series(df_train.labels).value_counts()\n",
    "        new_label_balance  = np.minimum(real_label_balance, trim_to_value)\n",
    "        df_label_balance   = pd.concat([real_label_balance, new_label_balance], axis=1)\n",
    "        print(df_label_balance)\n",
    "        \n",
    "        for label, value in zip(new_label_balance.index, new_label_balance.values):\n",
    "            # Get label records and trim to size\n",
    "            df_label = df_train[df_train['labels'] == label]            \n",
    "            df_label = df_label.sample(value, random_state = trim_random_seed)\n",
    "            \n",
    "            # Remove old label records and add back in trimmed sample\n",
    "            df_train = df_train.drop(df_train[df_train['labels'] == label].index, axis = 0)\n",
    "            df_train = pd.concat([df_train, df_label])\n",
    "\n",
    "df_train"
   ],
   "id": "7e2aa8ea68937800",
   "outputs": [
    {
     "data": {
      "text/plain": [
       "                                                   text    labels\n",
       "97    USER 3. Re HASHTAG:- A \"youth movement\" promot...   disgust\n",
       "6423  We condemn the U.S. backed HASHTAG coup attemp...   disgust\n",
       "5732  HASHTAG Today we have begun the definitive pha...       joy\n",
       "4785  HASHTAG: Ten memorable scenes from Hindi cinem...   disgust\n",
       "4235  We have talent! In some ways, but not so much ...       joy\n",
       "...                                                 ...       ...\n",
       "4397  The amount of empowerment arya has given to wo...       joy\n",
       "5856  It is rightly said, reading is essential for t...       joy\n",
       "413   HASHTAG This means I can buy more books!! Fant...       joy\n",
       "2980  Barcelona is such a piece of shit team. HASHTA...     anger\n",
       "308   Why in the hell is Samwell Tarly alive??? HASH...  surprise\n",
       "\n",
       "[3198 rows x 2 columns]"
      ],
      "text/html": [
       "<div>\n",
       "<style scoped>\n",
       "    .dataframe tbody tr th:only-of-type {\n",
       "        vertical-align: middle;\n",
       "    }\n",
       "\n",
       "    .dataframe tbody tr th {\n",
       "        vertical-align: top;\n",
       "    }\n",
       "\n",
       "    .dataframe thead th {\n",
       "        text-align: right;\n",
       "    }\n",
       "</style>\n",
       "<table border=\"1\" class=\"dataframe\">\n",
       "  <thead>\n",
       "    <tr style=\"text-align: right;\">\n",
       "      <th></th>\n",
       "      <th>text</th>\n",
       "      <th>labels</th>\n",
       "    </tr>\n",
       "  </thead>\n",
       "  <tbody>\n",
       "    <tr>\n",
       "      <th>97</th>\n",
       "      <td>USER 3. Re HASHTAG:- A \"youth movement\" promot...</td>\n",
       "      <td>disgust</td>\n",
       "    </tr>\n",
       "    <tr>\n",
       "      <th>6423</th>\n",
       "      <td>We condemn the U.S. backed HASHTAG coup attemp...</td>\n",
       "      <td>disgust</td>\n",
       "    </tr>\n",
       "    <tr>\n",
       "      <th>5732</th>\n",
       "      <td>HASHTAG Today we have begun the definitive pha...</td>\n",
       "      <td>joy</td>\n",
       "    </tr>\n",
       "    <tr>\n",
       "      <th>4785</th>\n",
       "      <td>HASHTAG: Ten memorable scenes from Hindi cinem...</td>\n",
       "      <td>disgust</td>\n",
       "    </tr>\n",
       "    <tr>\n",
       "      <th>4235</th>\n",
       "      <td>We have talent! In some ways, but not so much ...</td>\n",
       "      <td>joy</td>\n",
       "    </tr>\n",
       "    <tr>\n",
       "      <th>...</th>\n",
       "      <td>...</td>\n",
       "      <td>...</td>\n",
       "    </tr>\n",
       "    <tr>\n",
       "      <th>4397</th>\n",
       "      <td>The amount of empowerment arya has given to wo...</td>\n",
       "      <td>joy</td>\n",
       "    </tr>\n",
       "    <tr>\n",
       "      <th>5856</th>\n",
       "      <td>It is rightly said, reading is essential for t...</td>\n",
       "      <td>joy</td>\n",
       "    </tr>\n",
       "    <tr>\n",
       "      <th>413</th>\n",
       "      <td>HASHTAG This means I can buy more books!! Fant...</td>\n",
       "      <td>joy</td>\n",
       "    </tr>\n",
       "    <tr>\n",
       "      <th>2980</th>\n",
       "      <td>Barcelona is such a piece of shit team. HASHTA...</td>\n",
       "      <td>anger</td>\n",
       "    </tr>\n",
       "    <tr>\n",
       "      <th>308</th>\n",
       "      <td>Why in the hell is Samwell Tarly alive??? HASH...</td>\n",
       "      <td>surprise</td>\n",
       "    </tr>\n",
       "  </tbody>\n",
       "</table>\n",
       "<p>3198 rows × 2 columns</p>\n",
       "</div>"
      ]
     },
     "execution_count": 33,
     "metadata": {},
     "output_type": "execute_result"
    }
   ],
   "execution_count": 33
  },
  {
   "metadata": {},
   "cell_type": "markdown",
   "source": [
    "## Synthetic Data\n",
    "### Loading"
   ],
   "id": "4da7025dc772f236"
  },
  {
   "metadata": {
    "ExecuteTime": {
     "end_time": "2024-12-02T00:29:45.092228Z",
     "start_time": "2024-12-02T00:29:45.062112Z"
    }
   },
   "cell_type": "code",
   "source": [
    "if augmenting_llm is not None:\n",
    "    llm_metadata = LLM_config.model[augmenting_llm]\n",
    "\n",
    "    directory = f\"E:/Projects/Pycharm Projects/NLP_Augmentation_via_LLM/synthetic_datasets/{dataset_metadata['id']}/\"\n",
    "    filename = llm_metadata['id'].replace(\":\", \"_\") + \".parquet\"\n",
    "\n",
    "    df_synthetic = pd.read_parquet(path=directory+filename)\n",
    "\n",
    "    df_synthetic = df_synthetic.drop([\"all labels\", \"source index\", \"source label\", \"intended label\"], axis=1)\n",
    "    df_synthetic.rename(columns={\"label\": \"labels\"}, inplace=True)"
   ],
   "id": "6fa473b6f0f63f88",
   "outputs": [],
   "execution_count": 34
  },
  {
   "metadata": {},
   "cell_type": "markdown",
   "source": "## Augmenting",
   "id": "913bf0d45b4f59c8"
  },
  {
   "metadata": {
    "ExecuteTime": {
     "end_time": "2024-12-02T00:29:45.178119Z",
     "start_time": "2024-12-02T00:29:45.154325Z"
    }
   },
   "cell_type": "code",
   "source": [
    "from IPython.display import display\n",
    "\n",
    "import numpy as np\n",
    "    \n",
    "raw_label_counts =  pd.Series(df_train.labels).value_counts()\n",
    "\n",
    "if augmenting_llm is not None:\n",
    "    if augment_all:\n",
    "        # Set number of records per class to add\n",
    "        if augment_by == \"balance\":\n",
    "            deficit_counts = np.subtract(raw_label_counts.max(), raw_label_counts)\n",
    "\n",
    "        elif isinstance(augment_by, int):\n",
    "            deficit_counts = raw_label_counts.copy()\n",
    "            deficit_counts[:] = augment_by\n",
    "\n",
    "        elif augment_by == \"initial size\":\n",
    "            current_label_counts =  pd.Series(df_train.labels).value_counts()\n",
    "            deficit_counts = np.subtract(initial_label_counts, current_label_counts)\n",
    "\n",
    "        elif augment_by == \"multiplier\":\n",
    "            deficit_counts = np.multiply(raw_label_counts, (augment_scalar-1)).astype(int)\n",
    "            print(deficit_counts)\n",
    "\n",
    "    else:\n",
    "        deficit_counts = raw_label_counts.copy()\n",
    "\n",
    "        if augment_by == \"multiplier\":\n",
    "            for label, value in deficit_counts.items():\n",
    "                if label in augment_classes:\n",
    "                    deficit_counts[label] = deficit_counts[label] * (augment_classes[label] - 1)\n",
    "                else:\n",
    "                    deficit_counts[label] = 0\n",
    "\n",
    "    \n",
    "    synthetic_label_counts = pd.Series(df_synthetic.labels).value_counts()\n",
    "    \n",
    "    df_train[\"Source\"] = \"real\"\n",
    "    \n",
    "    for label, deficit_value in zip(deficit_counts.index, deficit_counts.values):\n",
    "        try:\n",
    "            synthetic_label_counts[label]\n",
    "        except KeyError:\n",
    "            print(f\"Key \\\"{label}\\\" not found in synthetic dataset. Skipping.\")\n",
    "        else:\n",
    "            if deficit_value <= synthetic_label_counts[label]:\n",
    "                sample_size = deficit_value\n",
    "            else:\n",
    "                sample_size = synthetic_label_counts[label]\n",
    "                \n",
    "            if sample_size > 0:\n",
    "                df_label_augment = df_synthetic[df_synthetic[\"labels\"] == label].sample(sample_size, random_state = augment_random_seed)\n",
    "                df_label_augment[\"Source\"] = \"synthetic\"\n",
    "                df_train = pd.concat([df_train, df_label_augment], ignore_index=True)\n",
    "        \n",
    "    post_aug_deficit_counts = pd.Series(df_train.labels).value_counts()\n",
    "    \n",
    "    label_counts = pd.concat([raw_label_counts, deficit_counts, synthetic_label_counts, post_aug_deficit_counts], axis=1)\n",
    "    label_counts.columns = [\"Pre-Aug\", \"Deficit\", \"Synthetic\", \"Post-Aug\"]\n",
    "    print(f\"\\n{label_counts}\")\n",
    "else:\n",
    "    print(f\"\\n{raw_label_counts})\")\n",
    "    \n",
    "display(df_train)"
   ],
   "id": "8ddc11aabd3c8050",
   "outputs": [
    {
     "name": "stdout",
     "output_type": "stream",
     "text": [
      "\n",
      "          Pre-Aug  Deficit  Synthetic  Post-Aug\n",
      "labels                                         \n",
      "joy          1631        0       4837      1631\n",
      "disgust       612        0       2257       612\n",
      "sadness       333        0       2257       333\n",
      "anger         313      313       2257       626\n",
      "surprise      188      188       2257       376\n",
      "fear          121      121       2257       242\n"
     ]
    },
    {
     "data": {
      "text/plain": [
       "                                                   text   labels     Source\n",
       "0     USER 3. Re HASHTAG:- A \"youth movement\" promot...  disgust       real\n",
       "1     We condemn the U.S. backed HASHTAG coup attemp...  disgust       real\n",
       "2     HASHTAG Today we have begun the definitive pha...      joy       real\n",
       "3     HASHTAG: Ten memorable scenes from Hindi cinem...  disgust       real\n",
       "4     We have talent! In some ways, but not so much ...      joy       real\n",
       "...                                                 ...      ...        ...\n",
       "3815  Thinking about losing the TITLE at the WORST p...     fear  synthetic\n",
       "3816  Traveled to Paris for our wedding anniversary ...     fear  synthetic\n",
       "3817  Last night's episode of HASHTAG was terrifying...     fear  synthetic\n",
       "3818  NO, NO, NO! My heart can't take it anymore! Th...     fear  synthetic\n",
       "3819  An 800 year old building just burned down & th...     fear  synthetic\n",
       "\n",
       "[3820 rows x 3 columns]"
      ],
      "text/html": [
       "<div>\n",
       "<style scoped>\n",
       "    .dataframe tbody tr th:only-of-type {\n",
       "        vertical-align: middle;\n",
       "    }\n",
       "\n",
       "    .dataframe tbody tr th {\n",
       "        vertical-align: top;\n",
       "    }\n",
       "\n",
       "    .dataframe thead th {\n",
       "        text-align: right;\n",
       "    }\n",
       "</style>\n",
       "<table border=\"1\" class=\"dataframe\">\n",
       "  <thead>\n",
       "    <tr style=\"text-align: right;\">\n",
       "      <th></th>\n",
       "      <th>text</th>\n",
       "      <th>labels</th>\n",
       "      <th>Source</th>\n",
       "    </tr>\n",
       "  </thead>\n",
       "  <tbody>\n",
       "    <tr>\n",
       "      <th>0</th>\n",
       "      <td>USER 3. Re HASHTAG:- A \"youth movement\" promot...</td>\n",
       "      <td>disgust</td>\n",
       "      <td>real</td>\n",
       "    </tr>\n",
       "    <tr>\n",
       "      <th>1</th>\n",
       "      <td>We condemn the U.S. backed HASHTAG coup attemp...</td>\n",
       "      <td>disgust</td>\n",
       "      <td>real</td>\n",
       "    </tr>\n",
       "    <tr>\n",
       "      <th>2</th>\n",
       "      <td>HASHTAG Today we have begun the definitive pha...</td>\n",
       "      <td>joy</td>\n",
       "      <td>real</td>\n",
       "    </tr>\n",
       "    <tr>\n",
       "      <th>3</th>\n",
       "      <td>HASHTAG: Ten memorable scenes from Hindi cinem...</td>\n",
       "      <td>disgust</td>\n",
       "      <td>real</td>\n",
       "    </tr>\n",
       "    <tr>\n",
       "      <th>4</th>\n",
       "      <td>We have talent! In some ways, but not so much ...</td>\n",
       "      <td>joy</td>\n",
       "      <td>real</td>\n",
       "    </tr>\n",
       "    <tr>\n",
       "      <th>...</th>\n",
       "      <td>...</td>\n",
       "      <td>...</td>\n",
       "      <td>...</td>\n",
       "    </tr>\n",
       "    <tr>\n",
       "      <th>3815</th>\n",
       "      <td>Thinking about losing the TITLE at the WORST p...</td>\n",
       "      <td>fear</td>\n",
       "      <td>synthetic</td>\n",
       "    </tr>\n",
       "    <tr>\n",
       "      <th>3816</th>\n",
       "      <td>Traveled to Paris for our wedding anniversary ...</td>\n",
       "      <td>fear</td>\n",
       "      <td>synthetic</td>\n",
       "    </tr>\n",
       "    <tr>\n",
       "      <th>3817</th>\n",
       "      <td>Last night's episode of HASHTAG was terrifying...</td>\n",
       "      <td>fear</td>\n",
       "      <td>synthetic</td>\n",
       "    </tr>\n",
       "    <tr>\n",
       "      <th>3818</th>\n",
       "      <td>NO, NO, NO! My heart can't take it anymore! Th...</td>\n",
       "      <td>fear</td>\n",
       "      <td>synthetic</td>\n",
       "    </tr>\n",
       "    <tr>\n",
       "      <th>3819</th>\n",
       "      <td>An 800 year old building just burned down &amp; th...</td>\n",
       "      <td>fear</td>\n",
       "      <td>synthetic</td>\n",
       "    </tr>\n",
       "  </tbody>\n",
       "</table>\n",
       "<p>3820 rows × 3 columns</p>\n",
       "</div>"
      ]
     },
     "metadata": {},
     "output_type": "display_data"
    }
   ],
   "execution_count": 35
  },
  {
   "metadata": {
    "ExecuteTime": {
     "end_time": "2024-12-02T00:29:45.238878Z",
     "start_time": "2024-12-02T00:29:45.233520Z"
    }
   },
   "cell_type": "code",
   "source": [
    "# Add \"Others\" back in\n",
    "if include_unlabeled_labels:\n",
    "    df_others[dataset_metadata[\"unlabeled_label\"]] = \"real\"\n",
    "    X_train, X_test, y_train, y_test = train_test_split(df_real['text'], \n",
    "                                                    df_real['labels'], \n",
    "                                                    test_size=0.3,\n",
    "                                                    random_state=42)\n",
    "\n",
    "    df_train_others = pd.concat([X_train, y_train], axis=1)\n",
    "    df_test_others = pd.concat([X_test, y_test], axis=1)\n",
    "    \n",
    "    df_train = pd.concat([df_train, df_train_others], ignore_index=True)\n",
    "    df_test = pd.concat([df_test, df_test_others], ignore_index=True)\n",
    "    display (df_train)"
   ],
   "id": "3e2cfeed5ee771d6",
   "outputs": [],
   "execution_count": 36
  },
  {
   "metadata": {},
   "cell_type": "markdown",
   "source": "### Shuffle Records",
   "id": "2bfd1c0073cad27a"
  },
  {
   "metadata": {
    "ExecuteTime": {
     "end_time": "2024-12-02T00:29:45.338406Z",
     "start_time": "2024-12-02T00:29:45.328238Z"
    }
   },
   "cell_type": "code",
   "source": [
    "df_train = df_train.sample(frac = 1, random_state = shuffle_random_seed)\n",
    "\n",
    "df_train"
   ],
   "id": "87fff7e9b58a442e",
   "outputs": [
    {
     "data": {
      "text/plain": [
       "                                                   text   labels     Source\n",
       "2562           What a fucking joke that ref was HASHTAG    anger       real\n",
       "1425  Sure, Arya was great and all, but I think her ...      joy       real\n",
       "2186  Leave it to USER to be in favor of starving su...    anger       real\n",
       "3496  God what's happening here? That ref HASHTAG ha...    anger  synthetic\n",
       "3048  Trump is the one killing people in HASHTAG and...  disgust       real\n",
       "...                                                 ...      ...        ...\n",
       "1130    Best movie of the century HASHTAG  HASHTAG  URL      joy       real\n",
       "1294  USER having fun yet? Wish you ran Venezuela di...  disgust       real\n",
       "860   The most beautiful photo por this book. HASHTA...      joy       real\n",
       "3507  USER Can't believe Barca just blew it with a t...    anger  synthetic\n",
       "3174  Househelp kills her baby for resembling kenyan...  disgust       real\n",
       "\n",
       "[3820 rows x 3 columns]"
      ],
      "text/html": [
       "<div>\n",
       "<style scoped>\n",
       "    .dataframe tbody tr th:only-of-type {\n",
       "        vertical-align: middle;\n",
       "    }\n",
       "\n",
       "    .dataframe tbody tr th {\n",
       "        vertical-align: top;\n",
       "    }\n",
       "\n",
       "    .dataframe thead th {\n",
       "        text-align: right;\n",
       "    }\n",
       "</style>\n",
       "<table border=\"1\" class=\"dataframe\">\n",
       "  <thead>\n",
       "    <tr style=\"text-align: right;\">\n",
       "      <th></th>\n",
       "      <th>text</th>\n",
       "      <th>labels</th>\n",
       "      <th>Source</th>\n",
       "    </tr>\n",
       "  </thead>\n",
       "  <tbody>\n",
       "    <tr>\n",
       "      <th>2562</th>\n",
       "      <td>What a fucking joke that ref was HASHTAG</td>\n",
       "      <td>anger</td>\n",
       "      <td>real</td>\n",
       "    </tr>\n",
       "    <tr>\n",
       "      <th>1425</th>\n",
       "      <td>Sure, Arya was great and all, but I think her ...</td>\n",
       "      <td>joy</td>\n",
       "      <td>real</td>\n",
       "    </tr>\n",
       "    <tr>\n",
       "      <th>2186</th>\n",
       "      <td>Leave it to USER to be in favor of starving su...</td>\n",
       "      <td>anger</td>\n",
       "      <td>real</td>\n",
       "    </tr>\n",
       "    <tr>\n",
       "      <th>3496</th>\n",
       "      <td>God what's happening here? That ref HASHTAG ha...</td>\n",
       "      <td>anger</td>\n",
       "      <td>synthetic</td>\n",
       "    </tr>\n",
       "    <tr>\n",
       "      <th>3048</th>\n",
       "      <td>Trump is the one killing people in HASHTAG and...</td>\n",
       "      <td>disgust</td>\n",
       "      <td>real</td>\n",
       "    </tr>\n",
       "    <tr>\n",
       "      <th>...</th>\n",
       "      <td>...</td>\n",
       "      <td>...</td>\n",
       "      <td>...</td>\n",
       "    </tr>\n",
       "    <tr>\n",
       "      <th>1130</th>\n",
       "      <td>Best movie of the century HASHTAG  HASHTAG  URL</td>\n",
       "      <td>joy</td>\n",
       "      <td>real</td>\n",
       "    </tr>\n",
       "    <tr>\n",
       "      <th>1294</th>\n",
       "      <td>USER having fun yet? Wish you ran Venezuela di...</td>\n",
       "      <td>disgust</td>\n",
       "      <td>real</td>\n",
       "    </tr>\n",
       "    <tr>\n",
       "      <th>860</th>\n",
       "      <td>The most beautiful photo por this book. HASHTA...</td>\n",
       "      <td>joy</td>\n",
       "      <td>real</td>\n",
       "    </tr>\n",
       "    <tr>\n",
       "      <th>3507</th>\n",
       "      <td>USER Can't believe Barca just blew it with a t...</td>\n",
       "      <td>anger</td>\n",
       "      <td>synthetic</td>\n",
       "    </tr>\n",
       "    <tr>\n",
       "      <th>3174</th>\n",
       "      <td>Househelp kills her baby for resembling kenyan...</td>\n",
       "      <td>disgust</td>\n",
       "      <td>real</td>\n",
       "    </tr>\n",
       "  </tbody>\n",
       "</table>\n",
       "<p>3820 rows × 3 columns</p>\n",
       "</div>"
      ]
     },
     "execution_count": 37,
     "metadata": {},
     "output_type": "execute_result"
    }
   ],
   "execution_count": 37
  },
  {
   "metadata": {
    "ExecuteTime": {
     "end_time": "2024-12-02T00:29:45.411967Z",
     "start_time": "2024-12-02T00:29:45.406463Z"
    }
   },
   "cell_type": "code",
   "source": [
    "num_labels = df_real[\"labels\"].nunique()\n",
    "label_names = df_real[\"labels\"].unique()\n",
    "print(f\"{num_labels} : {label_names}\")"
   ],
   "id": "44e570e4c81ca898",
   "outputs": [
    {
     "name": "stdout",
     "output_type": "stream",
     "text": [
      "6 : ['disgust' 'sadness' 'joy' 'anger' 'surprise' 'fear']\n"
     ]
    }
   ],
   "execution_count": 38
  },
  {
   "metadata": {},
   "cell_type": "markdown",
   "source": "## Encode Labels",
   "id": "98273a6afa3d4ab3"
  },
  {
   "metadata": {
    "ExecuteTime": {
     "end_time": "2024-12-02T00:29:45.486547Z",
     "start_time": "2024-12-02T00:29:45.474514Z"
    }
   },
   "cell_type": "code",
   "source": [
    "from sklearn.preprocessing import LabelEncoder\n",
    "\n",
    "le = LabelEncoder()\n",
    "le.fit(df_train[\"labels\"])\n",
    "\n",
    "df_train[\"labels\"] = le.transform(df_train[\"labels\"])\n",
    "df_test[\"labels\"] = le.transform(df_test[\"labels\"])\n",
    "\n",
    "df_train"
   ],
   "id": "62df624500a53145",
   "outputs": [
    {
     "data": {
      "text/plain": [
       "                                                   text  labels     Source\n",
       "2562           What a fucking joke that ref was HASHTAG       0       real\n",
       "1425  Sure, Arya was great and all, but I think her ...       3       real\n",
       "2186  Leave it to USER to be in favor of starving su...       0       real\n",
       "3496  God what's happening here? That ref HASHTAG ha...       0  synthetic\n",
       "3048  Trump is the one killing people in HASHTAG and...       1       real\n",
       "...                                                 ...     ...        ...\n",
       "1130    Best movie of the century HASHTAG  HASHTAG  URL       3       real\n",
       "1294  USER having fun yet? Wish you ran Venezuela di...       1       real\n",
       "860   The most beautiful photo por this book. HASHTA...       3       real\n",
       "3507  USER Can't believe Barca just blew it with a t...       0  synthetic\n",
       "3174  Househelp kills her baby for resembling kenyan...       1       real\n",
       "\n",
       "[3820 rows x 3 columns]"
      ],
      "text/html": [
       "<div>\n",
       "<style scoped>\n",
       "    .dataframe tbody tr th:only-of-type {\n",
       "        vertical-align: middle;\n",
       "    }\n",
       "\n",
       "    .dataframe tbody tr th {\n",
       "        vertical-align: top;\n",
       "    }\n",
       "\n",
       "    .dataframe thead th {\n",
       "        text-align: right;\n",
       "    }\n",
       "</style>\n",
       "<table border=\"1\" class=\"dataframe\">\n",
       "  <thead>\n",
       "    <tr style=\"text-align: right;\">\n",
       "      <th></th>\n",
       "      <th>text</th>\n",
       "      <th>labels</th>\n",
       "      <th>Source</th>\n",
       "    </tr>\n",
       "  </thead>\n",
       "  <tbody>\n",
       "    <tr>\n",
       "      <th>2562</th>\n",
       "      <td>What a fucking joke that ref was HASHTAG</td>\n",
       "      <td>0</td>\n",
       "      <td>real</td>\n",
       "    </tr>\n",
       "    <tr>\n",
       "      <th>1425</th>\n",
       "      <td>Sure, Arya was great and all, but I think her ...</td>\n",
       "      <td>3</td>\n",
       "      <td>real</td>\n",
       "    </tr>\n",
       "    <tr>\n",
       "      <th>2186</th>\n",
       "      <td>Leave it to USER to be in favor of starving su...</td>\n",
       "      <td>0</td>\n",
       "      <td>real</td>\n",
       "    </tr>\n",
       "    <tr>\n",
       "      <th>3496</th>\n",
       "      <td>God what's happening here? That ref HASHTAG ha...</td>\n",
       "      <td>0</td>\n",
       "      <td>synthetic</td>\n",
       "    </tr>\n",
       "    <tr>\n",
       "      <th>3048</th>\n",
       "      <td>Trump is the one killing people in HASHTAG and...</td>\n",
       "      <td>1</td>\n",
       "      <td>real</td>\n",
       "    </tr>\n",
       "    <tr>\n",
       "      <th>...</th>\n",
       "      <td>...</td>\n",
       "      <td>...</td>\n",
       "      <td>...</td>\n",
       "    </tr>\n",
       "    <tr>\n",
       "      <th>1130</th>\n",
       "      <td>Best movie of the century HASHTAG  HASHTAG  URL</td>\n",
       "      <td>3</td>\n",
       "      <td>real</td>\n",
       "    </tr>\n",
       "    <tr>\n",
       "      <th>1294</th>\n",
       "      <td>USER having fun yet? Wish you ran Venezuela di...</td>\n",
       "      <td>1</td>\n",
       "      <td>real</td>\n",
       "    </tr>\n",
       "    <tr>\n",
       "      <th>860</th>\n",
       "      <td>The most beautiful photo por this book. HASHTA...</td>\n",
       "      <td>3</td>\n",
       "      <td>real</td>\n",
       "    </tr>\n",
       "    <tr>\n",
       "      <th>3507</th>\n",
       "      <td>USER Can't believe Barca just blew it with a t...</td>\n",
       "      <td>0</td>\n",
       "      <td>synthetic</td>\n",
       "    </tr>\n",
       "    <tr>\n",
       "      <th>3174</th>\n",
       "      <td>Househelp kills her baby for resembling kenyan...</td>\n",
       "      <td>1</td>\n",
       "      <td>real</td>\n",
       "    </tr>\n",
       "  </tbody>\n",
       "</table>\n",
       "<p>3820 rows × 3 columns</p>\n",
       "</div>"
      ]
     },
     "execution_count": 39,
     "metadata": {},
     "output_type": "execute_result"
    }
   ],
   "execution_count": 39
  },
  {
   "metadata": {},
   "cell_type": "markdown",
   "source": "## Train Model",
   "id": "7af854d90edb5b65"
  },
  {
   "metadata": {
    "ExecuteTime": {
     "end_time": "2024-12-02T00:29:45.547835Z",
     "start_time": "2024-12-02T00:29:45.544233Z"
    }
   },
   "cell_type": "code",
   "source": [
    "import gc\n",
    "\n",
    "def clear_cache(model, optimizer):\n",
    "    device = 'cuda' if torch.cuda.is_available() else 'cpu'\n",
    "    with torch.no_grad():\n",
    "        torch.cuda.empty_cache()\n",
    "    gc.collect()"
   ],
   "id": "254edd848f6e2af4",
   "outputs": [],
   "execution_count": 40
  },
  {
   "metadata": {
    "ExecuteTime": {
     "end_time": "2024-12-02T00:30:59.197619Z",
     "start_time": "2024-12-02T00:29:45.600008Z"
    }
   },
   "cell_type": "code",
   "source": [
    "from simpletransformers.classification import ClassificationModel, ClassificationArgs\n",
    "\n",
    "import os\n",
    "os.environ['HF_HOME'] = '/transformers/cache_dir/'\n",
    "\n",
    "if augmenting_llm is not None:\n",
    "    llm_metadata[\"id\"] = llm_metadata[\"id\"].replace(\":\", \"_\")\n",
    "    output_directory = f\"transformers/outputs/{dataset_metadata[\"id\"]}/{llm_metadata[\"id\"]}/\"\n",
    "else:\n",
    "    output_directory = f\"transformers/outputs/{dataset_metadata[\"id\"]}/raw/\"\n",
    "    \n",
    "model_args = ClassificationArgs()\n",
    "model_args.overwrite_output_dir = True\n",
    "model_args.cache_dir = \"transformers/cache_dir\"\n",
    "model_args.tensorboard_dir = \"transformers/runs\"\n",
    "model_args.output_dir = output_directory\n",
    "model_args.num_train_epochs = epochs\n",
    "model_args.manual_seed = classifier_random_seed\n",
    "# model_args.custom_callback = clear_cache\n",
    "\n",
    "model = ClassificationModel(\n",
    "    classifier.lower(), model,\n",
    "    use_cuda=True,\n",
    "    num_labels=num_labels,\n",
    "    args=model_args\n",
    ")\n",
    "\n",
    "model.train_model(df_train)"
   ],
   "id": "2936550c6cce1f69",
   "outputs": [
    {
     "name": "stderr",
     "output_type": "stream",
     "text": [
      "Some weights of RobertaForSequenceClassification were not initialized from the model checkpoint at roberta-base and are newly initialized: ['classifier.dense.bias', 'classifier.dense.weight', 'classifier.out_proj.bias', 'classifier.out_proj.weight']\n",
      "You should probably TRAIN this model on a down-stream task to be able to use it for predictions and inference.\n"
     ]
    },
    {
     "data": {
      "text/plain": [
       "  0%|          | 0/7 [00:00<?, ?it/s]"
      ],
      "application/vnd.jupyter.widget-view+json": {
       "version_major": 2,
       "version_minor": 0,
       "model_id": "519ad61c837243219195f7325c1f62d5"
      }
     },
     "metadata": {},
     "output_type": "display_data"
    },
    {
     "data": {
      "text/plain": [
       "Epoch:   0%|          | 0/2 [00:00<?, ?it/s]"
      ],
      "application/vnd.jupyter.widget-view+json": {
       "version_major": 2,
       "version_minor": 0,
       "model_id": "1e5671bf1e7440bfb5b1f7d19c187cd3"
      }
     },
     "metadata": {},
     "output_type": "display_data"
    },
    {
     "data": {
      "text/plain": [
       "Running Epoch 1 of 2:   0%|          | 0/478 [00:00<?, ?it/s]"
      ],
      "application/vnd.jupyter.widget-view+json": {
       "version_major": 2,
       "version_minor": 0,
       "model_id": "24d0f54474a545f386a82e0d576241cc"
      }
     },
     "metadata": {},
     "output_type": "display_data"
    },
    {
     "data": {
      "text/plain": [
       "Running Epoch 2 of 2:   0%|          | 0/478 [00:00<?, ?it/s]"
      ],
      "application/vnd.jupyter.widget-view+json": {
       "version_major": 2,
       "version_minor": 0,
       "model_id": "ef20a75d64764f8fa49fa9f8bc4d8259"
      }
     },
     "metadata": {},
     "output_type": "display_data"
    },
    {
     "data": {
      "text/plain": [
       "(956, 0.8488889877766246)"
      ]
     },
     "execution_count": 41,
     "metadata": {},
     "output_type": "execute_result"
    }
   ],
   "execution_count": 41
  },
  {
   "metadata": {},
   "cell_type": "markdown",
   "source": "### Get Predictions",
   "id": "bd901333b5544f0b"
  },
  {
   "metadata": {
    "ExecuteTime": {
     "end_time": "2024-12-02T00:31:08.168725Z",
     "start_time": "2024-12-02T00:30:59.231237Z"
    }
   },
   "cell_type": "code",
   "source": "predictions, raw_outputs = model.predict(df_test.text.tolist())",
   "id": "92589928a312d2cc",
   "outputs": [
    {
     "data": {
      "text/plain": [
       "  0%|          | 0/1 [00:00<?, ?it/s]"
      ],
      "application/vnd.jupyter.widget-view+json": {
       "version_major": 2,
       "version_minor": 0,
       "model_id": "2ba896ee075b4f04a774b43e67562c50"
      }
     },
     "metadata": {},
     "output_type": "display_data"
    },
    {
     "data": {
      "text/plain": [
       "  0%|          | 0/8 [00:00<?, ?it/s]"
      ],
      "application/vnd.jupyter.widget-view+json": {
       "version_major": 2,
       "version_minor": 0,
       "model_id": "0834c4de5ea947bf92ebd1458e683240"
      }
     },
     "metadata": {},
     "output_type": "display_data"
    }
   ],
   "execution_count": 42
  },
  {
   "metadata": {},
   "cell_type": "markdown",
   "source": "# Evaluation",
   "id": "ecdeffb3b149b632"
  },
  {
   "metadata": {},
   "cell_type": "markdown",
   "source": "## Metrics",
   "id": "f2511292e8ce3501"
  },
  {
   "metadata": {
    "ExecuteTime": {
     "end_time": "2024-12-02T00:31:08.184066Z",
     "start_time": "2024-12-02T00:31:08.173732Z"
    }
   },
   "cell_type": "code",
   "source": [
    "from sklearn.metrics import classification_report, confusion_matrix\n",
    "\n",
    "labels = df_test[\"labels\"].unique()\n",
    "labels.sort()\n",
    "\n",
    "print(classification_report(df_test[\"labels\"], \n",
    "                            predictions, \n",
    "                            labels = labels,\n",
    "                            target_names = le.inverse_transform(labels)\n",
    "                            )\n",
    "      )"
   ],
   "id": "e7d8c1806556340c",
   "outputs": [
    {
     "name": "stdout",
     "output_type": "stream",
     "text": [
      "              precision    recall  f1-score   support\n",
      "\n",
      "       anger       0.45      0.39      0.42        79\n",
      "     disgust       0.62      0.60      0.61       153\n",
      "        fear       0.57      0.43      0.49        30\n",
      "         joy       0.86      0.94      0.90       408\n",
      "     sadness       0.74      0.71      0.72        83\n",
      "    surprise       0.55      0.38      0.45        47\n",
      "\n",
      "    accuracy                           0.74       800\n",
      "   macro avg       0.63      0.58      0.60       800\n",
      "weighted avg       0.73      0.74      0.74       800\n",
      "\n"
     ]
    }
   ],
   "execution_count": 43
  },
  {
   "metadata": {
    "ExecuteTime": {
     "end_time": "2024-12-02T00:31:08.206010Z",
     "start_time": "2024-12-02T00:31:08.200341Z"
    }
   },
   "cell_type": "code",
   "source": "display(confusion_matrix(df_test[\"labels\"], predictions))",
   "id": "f35591414c0f8132",
   "outputs": [
    {
     "data": {
      "text/plain": [
       "array([[ 31,  32,   1,   8,   3,   4],\n",
       "       [ 29,  92,   4,  19,   8,   1],\n",
       "       [  2,   7,  13,   3,   2,   3],\n",
       "       [  3,   6,   3, 383,   7,   6],\n",
       "       [  1,   8,   2,  12,  59,   1],\n",
       "       [  3,   4,   0,  21,   1,  18]], dtype=int64)"
      ]
     },
     "metadata": {},
     "output_type": "display_data"
    }
   ],
   "execution_count": 44
  },
  {
   "metadata": {},
   "cell_type": "markdown",
   "source": "## Confusion Matrix",
   "id": "ec1ce8145c707687"
  },
  {
   "metadata": {
    "ExecuteTime": {
     "end_time": "2024-12-02T00:31:08.459482Z",
     "start_time": "2024-12-02T00:31:08.222450Z"
    }
   },
   "cell_type": "code",
   "source": [
    "import seaborn as sns\n",
    "import matplotlib.pyplot as plt\n",
    "\n",
    "plt.figure(figsize=(10, 8))\n",
    "sns.heatmap(confusion_matrix(df_test[\"labels\"], predictions),\n",
    "            xticklabels=le.classes_, yticklabels=le.classes_,\n",
    "            annot=True, fmt=\"d\",\n",
    "            cmap=\"rocket\")\n",
    "\n",
    "if augment_by is not None:\n",
    "    plt.title(f\"{augmenting_llm} Augmented Dataset\\n\"\n",
    "              f\"({classifier}, {epochs} Epochs, Seed {classifier_random_seed})\")\n",
    "else:\n",
    "    plt.title(f\"Non-Augmented Dataset\"\n",
    "              f\"({classifier}, {epochs} Epochs, Seed {classifier_random_seed})\")\n",
    "    \n",
    "plt.xlabel(\"Predicted Label\")\n",
    "plt.ylabel(\"True Label\")\n",
    "\n",
    "plt.show()"
   ],
   "id": "f018f6127b9202c5",
   "outputs": [
    {
     "data": {
      "text/plain": [
       "<Figure size 1000x800 with 2 Axes>"
      ],
      "image/png": "[encoded data removed]"
     },
     "metadata": {},
     "output_type": "display_data"
    }
   ],
   "execution_count": 45
  },
  {
   "metadata": {},
   "cell_type": "markdown",
   "source": "## Misclassified records",
   "id": "360e6368cc3bf4df"
  },
  {
   "metadata": {
    "ExecuteTime": {
     "end_time": "2024-12-02T00:31:08.479332Z",
     "start_time": "2024-12-02T00:31:08.475255Z"
    }
   },
   "cell_type": "code",
   "source": [
    "df_test[\"labels\"] = le.inverse_transform(df_test[\"labels\"])\n",
    "df_test[\"predict\"] = le.inverse_transform(predictions)"
   ],
   "id": "22210006655af4ee",
   "outputs": [],
   "execution_count": 46
  },
  {
   "metadata": {
    "ExecuteTime": {
     "end_time": "2024-12-02T00:31:08.505333Z",
     "start_time": "2024-12-02T00:31:08.496302Z"
    }
   },
   "cell_type": "code",
   "source": [
    "if augment_by is None:\n",
    "    print(f\"Dataset is augmented? False\")\n",
    "elif augment_by == \"balance\":\n",
    "    print(f\"Dataset is augmented to attempt class balance.\")\n",
    "elif isinstance(augment_by, int):\n",
    "    print(f\"Dataset is augmented to add {augment_by} records to each class.\")\n",
    "elif augment_by == \"initial size\":\n",
    "    print(\"Dataset class size was reduced and then augmented to initial class size.\")\n",
    "\n",
    "df_test[df_test[\"labels\"] != df_test[\"predict\"]]"
   ],
   "id": "aa9ad8874bfa3f49",
   "outputs": [
    {
     "data": {
      "text/plain": [
       "                                                   text   labels   predict\n",
       "95    Suarez celebration against Liverpool, his form...  disgust     anger\n",
       "4838  Ok enough already. When is Ghost coming back? ...    anger       joy\n",
       "162   Reminding me of Madrid’s run in last few years...      joy  surprise\n",
       "2209  Do Barcelona know this is a semi final coz the...      joy  surprise\n",
       "1786              Hope every team on HASHTAG will lose.  disgust   sadness\n",
       "...                                                 ...      ...       ...\n",
       "577   HASHTAG USER I did not see the humor in your c...  disgust     anger\n",
       "972   USER USER USER Are we talking about Irak? Or a...    anger   disgust\n",
       "1362  Folks, the Notre Dame is a fucking building. A...    anger   disgust\n",
       "1817  Don’t take your chances, don’t stay in the gam...  disgust       joy\n",
       "5348  We were wasteful in the final third. It’s what...  sadness   disgust\n",
       "\n",
       "[204 rows x 3 columns]"
      ],
      "text/html": [
       "<div>\n",
       "<style scoped>\n",
       "    .dataframe tbody tr th:only-of-type {\n",
       "        vertical-align: middle;\n",
       "    }\n",
       "\n",
       "    .dataframe tbody tr th {\n",
       "        vertical-align: top;\n",
       "    }\n",
       "\n",
       "    .dataframe thead th {\n",
       "        text-align: right;\n",
       "    }\n",
       "</style>\n",
       "<table border=\"1\" class=\"dataframe\">\n",
       "  <thead>\n",
       "    <tr style=\"text-align: right;\">\n",
       "      <th></th>\n",
       "      <th>text</th>\n",
       "      <th>labels</th>\n",
       "      <th>predict</th>\n",
       "    </tr>\n",
       "  </thead>\n",
       "  <tbody>\n",
       "    <tr>\n",
       "      <th>95</th>\n",
       "      <td>Suarez celebration against Liverpool, his form...</td>\n",
       "      <td>disgust</td>\n",
       "      <td>anger</td>\n",
       "    </tr>\n",
       "    <tr>\n",
       "      <th>4838</th>\n",
       "      <td>Ok enough already. When is Ghost coming back? ...</td>\n",
       "      <td>anger</td>\n",
       "      <td>joy</td>\n",
       "    </tr>\n",
       "    <tr>\n",
       "      <th>162</th>\n",
       "      <td>Reminding me of Madrid’s run in last few years...</td>\n",
       "      <td>joy</td>\n",
       "      <td>surprise</td>\n",
       "    </tr>\n",
       "    <tr>\n",
       "      <th>2209</th>\n",
       "      <td>Do Barcelona know this is a semi final coz the...</td>\n",
       "      <td>joy</td>\n",
       "      <td>surprise</td>\n",
       "    </tr>\n",
       "    <tr>\n",
       "      <th>1786</th>\n",
       "      <td>Hope every team on HASHTAG will lose.</td>\n",
       "      <td>disgust</td>\n",
       "      <td>sadness</td>\n",
       "    </tr>\n",
       "    <tr>\n",
       "      <th>...</th>\n",
       "      <td>...</td>\n",
       "      <td>...</td>\n",
       "      <td>...</td>\n",
       "    </tr>\n",
       "    <tr>\n",
       "      <th>577</th>\n",
       "      <td>HASHTAG USER I did not see the humor in your c...</td>\n",
       "      <td>disgust</td>\n",
       "      <td>anger</td>\n",
       "    </tr>\n",
       "    <tr>\n",
       "      <th>972</th>\n",
       "      <td>USER USER USER Are we talking about Irak? Or a...</td>\n",
       "      <td>anger</td>\n",
       "      <td>disgust</td>\n",
       "    </tr>\n",
       "    <tr>\n",
       "      <th>1362</th>\n",
       "      <td>Folks, the Notre Dame is a fucking building. A...</td>\n",
       "      <td>anger</td>\n",
       "      <td>disgust</td>\n",
       "    </tr>\n",
       "    <tr>\n",
       "      <th>1817</th>\n",
       "      <td>Don’t take your chances, don’t stay in the gam...</td>\n",
       "      <td>disgust</td>\n",
       "      <td>joy</td>\n",
       "    </tr>\n",
       "    <tr>\n",
       "      <th>5348</th>\n",
       "      <td>We were wasteful in the final third. It’s what...</td>\n",
       "      <td>sadness</td>\n",
       "      <td>disgust</td>\n",
       "    </tr>\n",
       "  </tbody>\n",
       "</table>\n",
       "<p>204 rows × 3 columns</p>\n",
       "</div>"
      ]
     },
     "execution_count": 47,
     "metadata": {},
     "output_type": "execute_result"
    }
   ],
   "execution_count": 47
  },
  {
   "metadata": {
    "ExecuteTime": {
     "end_time": "2024-12-02T00:31:08.703358Z",
     "start_time": "2024-12-02T00:31:08.548373Z"
    }
   },
   "cell_type": "code",
   "source": [
    "# Remove model from GPU memory\n",
    "import gc\n",
    "\n",
    "with torch.no_grad():\n",
    "    torch.cuda.empty_cache()\n",
    "del model\n",
    "gc.collect()"
   ],
   "id": "54d02b1cb9adc3e",
   "outputs": [
    {
     "data": {
      "text/plain": [
       "7053"
      ]
     },
     "execution_count": 48,
     "metadata": {},
     "output_type": "execute_result"
    }
   ],
   "execution_count": 48
  }
 ],
 "metadata": {
  "kernelspec": {
   "display_name": "Python 3",
   "language": "python",
   "name": "python3"
  },
  "language_info": {
   "codemirror_mode": {
    "name": "ipython",
    "version": 2
   },
   "file_extension": ".py",
   "mimetype": "text/x-python",
   "name": "python",
   "nbconvert_exporter": "python",
   "pygments_lexer": "ipython2",
   "version": "2.7.6"
  }
 },
 "nbformat": 4,
 "nbformat_minor": 5
}
