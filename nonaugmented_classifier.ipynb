{
 "cells": [
  {
   "metadata": {},
   "cell_type": "markdown",
   "source": "# Setup",
   "id": "5f08affec39ed1e8"
  },
  {
   "metadata": {
    "ExecuteTime": {
     "end_time": "2024-12-01T22:42:54.424159Z",
     "start_time": "2024-12-01T22:42:54.419987Z"
    }
   },
   "cell_type": "code",
   "source": [
    "fine_tune_model = True\n",
    "dataset_name = \"EmoEvent (Raw)\" # Name of the dataset to use. See config_files/dataset_config.py\n",
    "include_unlabeled_labels = False    # True: Includes \"others\" or similar labels for records that did not fit specific classes.\n",
    "\n",
    "# Reducing amount of real data per class by...\n",
    "trim_type = None     # Options: \"ratio\", \"value\", or None\n",
    "trim_to_ratio = 0.10\n",
    "trim_to_value = 25\n",
    "\n",
    "# Classifier Settings\n",
    "classifier = \"roberta\"\n",
    "model = \"roberta-base\"\n",
    "epochs = 2\n",
    "\n",
    "# Randomization Seed Values\n",
    "train_test_random_seed = 42\n",
    "trim_random_seed = 42\n",
    "shuffle_random_seed = 42\n",
    "classifier_random_seed = 42"
   ],
   "id": "1f46e9477398918e",
   "outputs": [],
   "execution_count": 1
  },
  {
   "metadata": {},
   "cell_type": "markdown",
   "source": [
    "# Imports\n",
    "## Libraries"
   ],
   "id": "4fa0d6bfb72bb17b"
  },
  {
   "metadata": {
    "ExecuteTime": {
     "end_time": "2024-12-01T22:42:56.523621Z",
     "start_time": "2024-12-01T22:42:54.429166Z"
    }
   },
   "cell_type": "code",
   "source": [
    "import torch\n",
    "\n",
    "print(\"CUDA Enabled? \" + str(torch.cuda.is_available())) \n",
    "if torch.cuda.is_available():\n",
    "    print(\"Device: \" + torch.cuda.get_device_name())"
   ],
   "id": "a8f2851c5d2d182b",
   "outputs": [
    {
     "name": "stdout",
     "output_type": "stream",
     "text": [
      "CUDA Enabled? True\n",
      "Device: NVIDIA GeForce RTX 3080 Ti\n"
     ]
    }
   ],
   "execution_count": 2
  },
  {
   "metadata": {},
   "cell_type": "markdown",
   "source": "## Config Files",
   "id": "b6b888f0606ae587"
  },
  {
   "metadata": {
    "ExecuteTime": {
     "end_time": "2024-12-01T22:42:56.603217Z",
     "start_time": "2024-12-01T22:42:56.597212Z"
    }
   },
   "cell_type": "code",
   "source": "from config_files import dataset_config",
   "id": "af28eb40358025ab",
   "outputs": [],
   "execution_count": 3
  },
  {
   "metadata": {},
   "cell_type": "markdown",
   "source": [
    "# Workflow\n",
    "## Real Data"
   ],
   "id": "568859c2cb0473e9"
  },
  {
   "metadata": {
    "ExecuteTime": {
     "end_time": "2024-12-01T22:42:56.613710Z",
     "start_time": "2024-12-01T22:42:56.610353Z"
    }
   },
   "cell_type": "code",
   "source": "dataset_metadata = dataset_config.dataset[dataset_name]",
   "id": "80c0b923e0c03433",
   "outputs": [],
   "execution_count": 4
  },
  {
   "metadata": {},
   "cell_type": "markdown",
   "source": "### Loading",
   "id": "e6fbb5881df4319f"
  },
  {
   "metadata": {
    "ExecuteTime": {
     "end_time": "2024-12-01T22:42:56.666615Z",
     "start_time": "2024-12-01T22:42:56.619526Z"
    }
   },
   "cell_type": "code",
   "source": [
    "import pandas as pd\n",
    "\n",
    "df_real = pd.DataFrame([])\n",
    "\n",
    "if dataset_metadata[\"location\"] == \"local\":\n",
    "            \n",
    "    if dataset_metadata[\"filetype\"] == \"csv\":\n",
    "        df_real = pd.read_csv(dataset_metadata[\"abspath\"])\n",
    "    \n",
    "    elif dataset_metadata[\"filetype\"] == \"tsv\":\n",
    "        df_real = pd.read_csv(dataset_metadata[\"abspath\"], sep=\"\\t\")\n",
    "        \n",
    "df_real"
   ],
   "id": "9ddadbb868db859d",
   "outputs": [
    {
     "data": {
      "text/plain": [
       "                                  id          event  \\\n",
       "0     3B9XR6P1WE1U78OX08FW8NXJL93BJG      NotreDame   \n",
       "1     3P4ZBJFX2V96Q90CC9K7G3IC235WFF      Venezuela   \n",
       "2     3IQ9O0AYW65Y8JY8ICLHWGO5E1JIT6         LaLiga   \n",
       "3     3XEIP58NL0TWKWFD977CAKHEG1ZLZ3         LaLiga   \n",
       "4     3BFNCI9LYKWWKIJIK6BTNEUY6MU37E  GretaThunberg   \n",
       "...                              ...            ...   \n",
       "7261  3TTPFEFXCTQSAQCCGHV3LUVCUGPH6X      Venezuela   \n",
       "7262  3XT3KXP24Z4S6LNWMZDOL6WRUT46IF      NotreDame   \n",
       "7263  3EHIMLB7F75FE4V09WS158R30BIH8M  GameOfThrones   \n",
       "7264  3MYASTQBG7H48SQU9UQB0EX52P7DQG      NotreDame   \n",
       "7265  3CO05SML7VBAL940AXRGQXNR4M1R03      Venezuela   \n",
       "\n",
       "                                                  tweet offensive  emotion  \n",
       "0     I know that the Notre Dame is a very important...        NO   others  \n",
       "1     #BREAKING:  (USER) -- Trump threatens `full an...        NO   others  \n",
       "2     #Barcelona will win La Liga with three games t...        NO   others  \n",
       "3     HT: Decent half. A goal would've been good tho...        NO   others  \n",
       "4     In the 20th century we had weeping statues of ...        NO   others  \n",
       "...                                                 ...       ...      ...  \n",
       "7261  With regime change yet to take hold in #Venezu...        NO     fear  \n",
       "7262  #NotreDameCathedralFire Fantastic the response...        NO   others  \n",
       "7263  For those of you questioning the Arya thing. P...        NO   others  \n",
       "7264  Respect for people in france who've lost a his...        NO  sadness  \n",
       "7265  Socialism always ends up in brutal and forcefu...       OFF      joy  \n",
       "\n",
       "[7266 rows x 5 columns]"
      ],
      "text/html": [
       "<div>\n",
       "<style scoped>\n",
       "    .dataframe tbody tr th:only-of-type {\n",
       "        vertical-align: middle;\n",
       "    }\n",
       "\n",
       "    .dataframe tbody tr th {\n",
       "        vertical-align: top;\n",
       "    }\n",
       "\n",
       "    .dataframe thead th {\n",
       "        text-align: right;\n",
       "    }\n",
       "</style>\n",
       "<table border=\"1\" class=\"dataframe\">\n",
       "  <thead>\n",
       "    <tr style=\"text-align: right;\">\n",
       "      <th></th>\n",
       "      <th>id</th>\n",
       "      <th>event</th>\n",
       "      <th>tweet</th>\n",
       "      <th>offensive</th>\n",
       "      <th>emotion</th>\n",
       "    </tr>\n",
       "  </thead>\n",
       "  <tbody>\n",
       "    <tr>\n",
       "      <th>0</th>\n",
       "      <td>3B9XR6P1WE1U78OX08FW8NXJL93BJG</td>\n",
       "      <td>NotreDame</td>\n",
       "      <td>I know that the Notre Dame is a very important...</td>\n",
       "      <td>NO</td>\n",
       "      <td>others</td>\n",
       "    </tr>\n",
       "    <tr>\n",
       "      <th>1</th>\n",
       "      <td>3P4ZBJFX2V96Q90CC9K7G3IC235WFF</td>\n",
       "      <td>Venezuela</td>\n",
       "      <td>#BREAKING:  (USER) -- Trump threatens `full an...</td>\n",
       "      <td>NO</td>\n",
       "      <td>others</td>\n",
       "    </tr>\n",
       "    <tr>\n",
       "      <th>2</th>\n",
       "      <td>3IQ9O0AYW65Y8JY8ICLHWGO5E1JIT6</td>\n",
       "      <td>LaLiga</td>\n",
       "      <td>#Barcelona will win La Liga with three games t...</td>\n",
       "      <td>NO</td>\n",
       "      <td>others</td>\n",
       "    </tr>\n",
       "    <tr>\n",
       "      <th>3</th>\n",
       "      <td>3XEIP58NL0TWKWFD977CAKHEG1ZLZ3</td>\n",
       "      <td>LaLiga</td>\n",
       "      <td>HT: Decent half. A goal would've been good tho...</td>\n",
       "      <td>NO</td>\n",
       "      <td>others</td>\n",
       "    </tr>\n",
       "    <tr>\n",
       "      <th>4</th>\n",
       "      <td>3BFNCI9LYKWWKIJIK6BTNEUY6MU37E</td>\n",
       "      <td>GretaThunberg</td>\n",
       "      <td>In the 20th century we had weeping statues of ...</td>\n",
       "      <td>NO</td>\n",
       "      <td>others</td>\n",
       "    </tr>\n",
       "    <tr>\n",
       "      <th>...</th>\n",
       "      <td>...</td>\n",
       "      <td>...</td>\n",
       "      <td>...</td>\n",
       "      <td>...</td>\n",
       "      <td>...</td>\n",
       "    </tr>\n",
       "    <tr>\n",
       "      <th>7261</th>\n",
       "      <td>3TTPFEFXCTQSAQCCGHV3LUVCUGPH6X</td>\n",
       "      <td>Venezuela</td>\n",
       "      <td>With regime change yet to take hold in #Venezu...</td>\n",
       "      <td>NO</td>\n",
       "      <td>fear</td>\n",
       "    </tr>\n",
       "    <tr>\n",
       "      <th>7262</th>\n",
       "      <td>3XT3KXP24Z4S6LNWMZDOL6WRUT46IF</td>\n",
       "      <td>NotreDame</td>\n",
       "      <td>#NotreDameCathedralFire Fantastic the response...</td>\n",
       "      <td>NO</td>\n",
       "      <td>others</td>\n",
       "    </tr>\n",
       "    <tr>\n",
       "      <th>7263</th>\n",
       "      <td>3EHIMLB7F75FE4V09WS158R30BIH8M</td>\n",
       "      <td>GameOfThrones</td>\n",
       "      <td>For those of you questioning the Arya thing. P...</td>\n",
       "      <td>NO</td>\n",
       "      <td>others</td>\n",
       "    </tr>\n",
       "    <tr>\n",
       "      <th>7264</th>\n",
       "      <td>3MYASTQBG7H48SQU9UQB0EX52P7DQG</td>\n",
       "      <td>NotreDame</td>\n",
       "      <td>Respect for people in france who've lost a his...</td>\n",
       "      <td>NO</td>\n",
       "      <td>sadness</td>\n",
       "    </tr>\n",
       "    <tr>\n",
       "      <th>7265</th>\n",
       "      <td>3CO05SML7VBAL940AXRGQXNR4M1R03</td>\n",
       "      <td>Venezuela</td>\n",
       "      <td>Socialism always ends up in brutal and forcefu...</td>\n",
       "      <td>OFF</td>\n",
       "      <td>joy</td>\n",
       "    </tr>\n",
       "  </tbody>\n",
       "</table>\n",
       "<p>7266 rows × 5 columns</p>\n",
       "</div>"
      ]
     },
     "execution_count": 5,
     "metadata": {},
     "output_type": "execute_result"
    }
   ],
   "execution_count": 5
  },
  {
   "metadata": {},
   "cell_type": "markdown",
   "source": "### Preprocessing",
   "id": "dda765b88263a983"
  },
  {
   "metadata": {
    "ExecuteTime": {
     "end_time": "2024-12-01T22:42:56.711811Z",
     "start_time": "2024-12-01T22:42:56.703727Z"
    }
   },
   "cell_type": "code",
   "source": [
    "df_real.drop(columns = dataset_metadata[\"unused_columns\"], inplace=True)\n",
    "df_real.rename(columns = dataset_metadata[\"remap_columns\"], inplace=True)\n",
    "\n",
    "df_real"
   ],
   "id": "2788334001dbda8b",
   "outputs": [
    {
     "data": {
      "text/plain": [
       "                                                   text   labels\n",
       "0     I know that the Notre Dame is a very important...   others\n",
       "1     #BREAKING:  (USER) -- Trump threatens `full an...   others\n",
       "2     #Barcelona will win La Liga with three games t...   others\n",
       "3     HT: Decent half. A goal would've been good tho...   others\n",
       "4     In the 20th century we had weeping statues of ...   others\n",
       "...                                                 ...      ...\n",
       "7261  With regime change yet to take hold in #Venezu...     fear\n",
       "7262  #NotreDameCathedralFire Fantastic the response...   others\n",
       "7263  For those of you questioning the Arya thing. P...   others\n",
       "7264  Respect for people in france who've lost a his...  sadness\n",
       "7265  Socialism always ends up in brutal and forcefu...      joy\n",
       "\n",
       "[7266 rows x 2 columns]"
      ],
      "text/html": [
       "<div>\n",
       "<style scoped>\n",
       "    .dataframe tbody tr th:only-of-type {\n",
       "        vertical-align: middle;\n",
       "    }\n",
       "\n",
       "    .dataframe tbody tr th {\n",
       "        vertical-align: top;\n",
       "    }\n",
       "\n",
       "    .dataframe thead th {\n",
       "        text-align: right;\n",
       "    }\n",
       "</style>\n",
       "<table border=\"1\" class=\"dataframe\">\n",
       "  <thead>\n",
       "    <tr style=\"text-align: right;\">\n",
       "      <th></th>\n",
       "      <th>text</th>\n",
       "      <th>labels</th>\n",
       "    </tr>\n",
       "  </thead>\n",
       "  <tbody>\n",
       "    <tr>\n",
       "      <th>0</th>\n",
       "      <td>I know that the Notre Dame is a very important...</td>\n",
       "      <td>others</td>\n",
       "    </tr>\n",
       "    <tr>\n",
       "      <th>1</th>\n",
       "      <td>#BREAKING:  (USER) -- Trump threatens `full an...</td>\n",
       "      <td>others</td>\n",
       "    </tr>\n",
       "    <tr>\n",
       "      <th>2</th>\n",
       "      <td>#Barcelona will win La Liga with three games t...</td>\n",
       "      <td>others</td>\n",
       "    </tr>\n",
       "    <tr>\n",
       "      <th>3</th>\n",
       "      <td>HT: Decent half. A goal would've been good tho...</td>\n",
       "      <td>others</td>\n",
       "    </tr>\n",
       "    <tr>\n",
       "      <th>4</th>\n",
       "      <td>In the 20th century we had weeping statues of ...</td>\n",
       "      <td>others</td>\n",
       "    </tr>\n",
       "    <tr>\n",
       "      <th>...</th>\n",
       "      <td>...</td>\n",
       "      <td>...</td>\n",
       "    </tr>\n",
       "    <tr>\n",
       "      <th>7261</th>\n",
       "      <td>With regime change yet to take hold in #Venezu...</td>\n",
       "      <td>fear</td>\n",
       "    </tr>\n",
       "    <tr>\n",
       "      <th>7262</th>\n",
       "      <td>#NotreDameCathedralFire Fantastic the response...</td>\n",
       "      <td>others</td>\n",
       "    </tr>\n",
       "    <tr>\n",
       "      <th>7263</th>\n",
       "      <td>For those of you questioning the Arya thing. P...</td>\n",
       "      <td>others</td>\n",
       "    </tr>\n",
       "    <tr>\n",
       "      <th>7264</th>\n",
       "      <td>Respect for people in france who've lost a his...</td>\n",
       "      <td>sadness</td>\n",
       "    </tr>\n",
       "    <tr>\n",
       "      <th>7265</th>\n",
       "      <td>Socialism always ends up in brutal and forcefu...</td>\n",
       "      <td>joy</td>\n",
       "    </tr>\n",
       "  </tbody>\n",
       "</table>\n",
       "<p>7266 rows × 2 columns</p>\n",
       "</div>"
      ]
     },
     "execution_count": 6,
     "metadata": {},
     "output_type": "execute_result"
    }
   ],
   "execution_count": 6
  },
  {
   "metadata": {
    "ExecuteTime": {
     "end_time": "2024-12-01T22:42:56.766841Z",
     "start_time": "2024-12-01T22:42:56.757550Z"
    }
   },
   "cell_type": "code",
   "source": [
    "# Remove \"Others\"\n",
    "if not include_unlabeled_labels:\n",
    "    df_real.drop(df_real[df_real['labels'] == dataset_metadata[\"unlabeled_label\"]].index, inplace=True)\n",
    "\n",
    "df_real"
   ],
   "id": "24b51d4e1f60c896",
   "outputs": [
    {
     "data": {
      "text/plain": [
       "                                                   text   labels\n",
       "8     USER People of #Venezuela !! so hilarious movi...  disgust\n",
       "10    Remarkable match &amp; Incredible performance ...      joy\n",
       "11    That episode of Game Of Thrones was not as gre...    anger\n",
       "12    #AvengersEndGame may have had the visual and w...      joy\n",
       "14    Lmao. Liverpool are done 😂. 🐐 Makes it 2-0  #U...      joy\n",
       "...                                                 ...      ...\n",
       "7255  #WorldBookDay in words of #IvoAndric #NobelPri...      joy\n",
       "7258  Dear Politicians: Next election, you will want...    anger\n",
       "7261  With regime change yet to take hold in #Venezu...     fear\n",
       "7264  Respect for people in france who've lost a his...  sadness\n",
       "7265  Socialism always ends up in brutal and forcefu...      joy\n",
       "\n",
       "[3983 rows x 2 columns]"
      ],
      "text/html": [
       "<div>\n",
       "<style scoped>\n",
       "    .dataframe tbody tr th:only-of-type {\n",
       "        vertical-align: middle;\n",
       "    }\n",
       "\n",
       "    .dataframe tbody tr th {\n",
       "        vertical-align: top;\n",
       "    }\n",
       "\n",
       "    .dataframe thead th {\n",
       "        text-align: right;\n",
       "    }\n",
       "</style>\n",
       "<table border=\"1\" class=\"dataframe\">\n",
       "  <thead>\n",
       "    <tr style=\"text-align: right;\">\n",
       "      <th></th>\n",
       "      <th>text</th>\n",
       "      <th>labels</th>\n",
       "    </tr>\n",
       "  </thead>\n",
       "  <tbody>\n",
       "    <tr>\n",
       "      <th>8</th>\n",
       "      <td>USER People of #Venezuela !! so hilarious movi...</td>\n",
       "      <td>disgust</td>\n",
       "    </tr>\n",
       "    <tr>\n",
       "      <th>10</th>\n",
       "      <td>Remarkable match &amp;amp; Incredible performance ...</td>\n",
       "      <td>joy</td>\n",
       "    </tr>\n",
       "    <tr>\n",
       "      <th>11</th>\n",
       "      <td>That episode of Game Of Thrones was not as gre...</td>\n",
       "      <td>anger</td>\n",
       "    </tr>\n",
       "    <tr>\n",
       "      <th>12</th>\n",
       "      <td>#AvengersEndGame may have had the visual and w...</td>\n",
       "      <td>joy</td>\n",
       "    </tr>\n",
       "    <tr>\n",
       "      <th>14</th>\n",
       "      <td>Lmao. Liverpool are done 😂. 🐐 Makes it 2-0  #U...</td>\n",
       "      <td>joy</td>\n",
       "    </tr>\n",
       "    <tr>\n",
       "      <th>...</th>\n",
       "      <td>...</td>\n",
       "      <td>...</td>\n",
       "    </tr>\n",
       "    <tr>\n",
       "      <th>7255</th>\n",
       "      <td>#WorldBookDay in words of #IvoAndric #NobelPri...</td>\n",
       "      <td>joy</td>\n",
       "    </tr>\n",
       "    <tr>\n",
       "      <th>7258</th>\n",
       "      <td>Dear Politicians: Next election, you will want...</td>\n",
       "      <td>anger</td>\n",
       "    </tr>\n",
       "    <tr>\n",
       "      <th>7261</th>\n",
       "      <td>With regime change yet to take hold in #Venezu...</td>\n",
       "      <td>fear</td>\n",
       "    </tr>\n",
       "    <tr>\n",
       "      <th>7264</th>\n",
       "      <td>Respect for people in france who've lost a his...</td>\n",
       "      <td>sadness</td>\n",
       "    </tr>\n",
       "    <tr>\n",
       "      <th>7265</th>\n",
       "      <td>Socialism always ends up in brutal and forcefu...</td>\n",
       "      <td>joy</td>\n",
       "    </tr>\n",
       "  </tbody>\n",
       "</table>\n",
       "<p>3983 rows × 2 columns</p>\n",
       "</div>"
      ]
     },
     "execution_count": 7,
     "metadata": {},
     "output_type": "execute_result"
    }
   ],
   "execution_count": 7
  },
  {
   "metadata": {},
   "cell_type": "markdown",
   "source": "### Train/Test Split",
   "id": "dcb98daf2c292e67"
  },
  {
   "metadata": {
    "ExecuteTime": {
     "end_time": "2024-12-01T22:42:57.220549Z",
     "start_time": "2024-12-01T22:42:56.926201Z"
    }
   },
   "cell_type": "code",
   "source": [
    "from sklearn.model_selection import train_test_split\n",
    "\n",
    "X_train, X_test, y_train, y_test = train_test_split(df_real['text'], \n",
    "                                                    df_real['labels'], \n",
    "                                                    stratify = df_real['labels'],\n",
    "                                                    test_size=0.2, \n",
    "                                                    random_state=train_test_random_seed)\n",
    "print(X_train.shape, y_train.shape)\n",
    "print(X_test.shape, y_test.shape)\n",
    "\n",
    "df_train = pd.concat([X_train, y_train], axis=1)\n",
    "df_test = pd.concat([X_test, y_test], axis=1)\n",
    "\n",
    "df_train"
   ],
   "id": "82b02cec7b5a482e",
   "outputs": [
    {
     "name": "stdout",
     "output_type": "stream",
     "text": [
      "(3186,) (3186,)\n",
      "(797,) (797,)\n"
     ]
    },
    {
     "data": {
      "text/plain": [
       "                                                   text    labels\n",
       "22    👧 Who is #GretaThunberg? One of the world’s 10...   disgust\n",
       "5225  Head up redmen. Played well tonight but footba...       joy\n",
       "5501  #Breaking 》 USER sending a special message to ...     anger\n",
       "1286  As you can tell, I am thankful for what has su...       joy\n",
       "4869  USER This #coup will fail also, the #Venezuela...   sadness\n",
       "...                                                 ...       ...\n",
       "1221  HAPPY #WORLDBOOKDAY FROM YOUR FAVORITE NEW YOR...       joy\n",
       "5981  Just seen #GameofThrones 3rd episode. Great st...       joy\n",
       "4516  Canny actually believe how good that episode o...  surprise\n",
       "2125  FT: #Barcelona 1-0 #Levante. Leo #Messi (who e...       joy\n",
       "1590  Take a look at how our team sensitively restor...       joy\n",
       "\n",
       "[3186 rows x 2 columns]"
      ],
      "text/html": [
       "<div>\n",
       "<style scoped>\n",
       "    .dataframe tbody tr th:only-of-type {\n",
       "        vertical-align: middle;\n",
       "    }\n",
       "\n",
       "    .dataframe tbody tr th {\n",
       "        vertical-align: top;\n",
       "    }\n",
       "\n",
       "    .dataframe thead th {\n",
       "        text-align: right;\n",
       "    }\n",
       "</style>\n",
       "<table border=\"1\" class=\"dataframe\">\n",
       "  <thead>\n",
       "    <tr style=\"text-align: right;\">\n",
       "      <th></th>\n",
       "      <th>text</th>\n",
       "      <th>labels</th>\n",
       "    </tr>\n",
       "  </thead>\n",
       "  <tbody>\n",
       "    <tr>\n",
       "      <th>22</th>\n",
       "      <td>👧 Who is #GretaThunberg? One of the world’s 10...</td>\n",
       "      <td>disgust</td>\n",
       "    </tr>\n",
       "    <tr>\n",
       "      <th>5225</th>\n",
       "      <td>Head up redmen. Played well tonight but footba...</td>\n",
       "      <td>joy</td>\n",
       "    </tr>\n",
       "    <tr>\n",
       "      <th>5501</th>\n",
       "      <td>#Breaking 》 USER sending a special message to ...</td>\n",
       "      <td>anger</td>\n",
       "    </tr>\n",
       "    <tr>\n",
       "      <th>1286</th>\n",
       "      <td>As you can tell, I am thankful for what has su...</td>\n",
       "      <td>joy</td>\n",
       "    </tr>\n",
       "    <tr>\n",
       "      <th>4869</th>\n",
       "      <td>USER This #coup will fail also, the #Venezuela...</td>\n",
       "      <td>sadness</td>\n",
       "    </tr>\n",
       "    <tr>\n",
       "      <th>...</th>\n",
       "      <td>...</td>\n",
       "      <td>...</td>\n",
       "    </tr>\n",
       "    <tr>\n",
       "      <th>1221</th>\n",
       "      <td>HAPPY #WORLDBOOKDAY FROM YOUR FAVORITE NEW YOR...</td>\n",
       "      <td>joy</td>\n",
       "    </tr>\n",
       "    <tr>\n",
       "      <th>5981</th>\n",
       "      <td>Just seen #GameofThrones 3rd episode. Great st...</td>\n",
       "      <td>joy</td>\n",
       "    </tr>\n",
       "    <tr>\n",
       "      <th>4516</th>\n",
       "      <td>Canny actually believe how good that episode o...</td>\n",
       "      <td>surprise</td>\n",
       "    </tr>\n",
       "    <tr>\n",
       "      <th>2125</th>\n",
       "      <td>FT: #Barcelona 1-0 #Levante. Leo #Messi (who e...</td>\n",
       "      <td>joy</td>\n",
       "    </tr>\n",
       "    <tr>\n",
       "      <th>1590</th>\n",
       "      <td>Take a look at how our team sensitively restor...</td>\n",
       "      <td>joy</td>\n",
       "    </tr>\n",
       "  </tbody>\n",
       "</table>\n",
       "<p>3186 rows × 2 columns</p>\n",
       "</div>"
      ]
     },
     "execution_count": 8,
     "metadata": {},
     "output_type": "execute_result"
    }
   ],
   "execution_count": 8
  },
  {
   "metadata": {},
   "cell_type": "markdown",
   "source": "### Trim Training Dataset",
   "id": "febfe76f368f04cb"
  },
  {
   "metadata": {
    "ExecuteTime": {
     "end_time": "2024-12-01T22:42:57.289599Z",
     "start_time": "2024-12-01T22:42:57.279050Z"
    }
   },
   "cell_type": "code",
   "source": [
    "import numpy as np\n",
    "\n",
    "if trim_type == \"ratio\":\n",
    "    if trim_to_ratio < 1:\n",
    "        \n",
    "        real_label_balance =  pd.Series(df_train.labels).value_counts()\n",
    "        new_label_balance = np.floor(real_label_balance * trim_to_ratio).astype(int)\n",
    "        df_label_balance = pd.concat([real_label_balance, new_label_balance], axis=1)\n",
    "        print(df_label_balance)\n",
    "        \n",
    "        for label, value in zip(new_label_balance.index, new_label_balance.values):\n",
    "            # Get label records and trim to size\n",
    "            df_label = df_train[df_train['labels'] == label]            \n",
    "            df_label = df_label.sample(value, random_state = trim_random_seed)\n",
    "            \n",
    "            # Remove old label records and add back in trimmed sample\n",
    "            df_train = df_train.drop(df_train[df_train['labels'] == label].index, axis = 0)\n",
    "            df_train = pd.concat([df_train, df_label])\n",
    "            \n",
    "elif trim_type == \"value\":\n",
    "    if trim_to_value > 0:\n",
    "        \n",
    "        real_label_balance = pd.Series(df_train.labels).value_counts()\n",
    "        new_label_balance  = np.minimum(real_label_balance, trim_to_value)\n",
    "        df_label_balance   = pd.concat([real_label_balance, new_label_balance], axis=1)\n",
    "        print(df_label_balance)\n",
    "        \n",
    "        for label, value in zip(new_label_balance.index, new_label_balance.values):\n",
    "            # Get label records and trim to size\n",
    "            df_label = df_train[df_train['labels'] == label]            \n",
    "            df_label = df_label.sample(value, random_state = trim_random_seed)\n",
    "            \n",
    "            # Remove old label records and add back in trimmed sample\n",
    "            df_train = df_train.drop(df_train[df_train['labels'] == label].index, axis = 0)\n",
    "            df_train = pd.concat([df_train, df_label])\n",
    "\n",
    "df_train"
   ],
   "id": "f74001361d111dab",
   "outputs": [
    {
     "data": {
      "text/plain": [
       "                                                   text    labels\n",
       "22    👧 Who is #GretaThunberg? One of the world’s 10...   disgust\n",
       "5225  Head up redmen. Played well tonight but footba...       joy\n",
       "5501  #Breaking 》 USER sending a special message to ...     anger\n",
       "1286  As you can tell, I am thankful for what has su...       joy\n",
       "4869  USER This #coup will fail also, the #Venezuela...   sadness\n",
       "...                                                 ...       ...\n",
       "1221  HAPPY #WORLDBOOKDAY FROM YOUR FAVORITE NEW YOR...       joy\n",
       "5981  Just seen #GameofThrones 3rd episode. Great st...       joy\n",
       "4516  Canny actually believe how good that episode o...  surprise\n",
       "2125  FT: #Barcelona 1-0 #Levante. Leo #Messi (who e...       joy\n",
       "1590  Take a look at how our team sensitively restor...       joy\n",
       "\n",
       "[3186 rows x 2 columns]"
      ],
      "text/html": [
       "<div>\n",
       "<style scoped>\n",
       "    .dataframe tbody tr th:only-of-type {\n",
       "        vertical-align: middle;\n",
       "    }\n",
       "\n",
       "    .dataframe tbody tr th {\n",
       "        vertical-align: top;\n",
       "    }\n",
       "\n",
       "    .dataframe thead th {\n",
       "        text-align: right;\n",
       "    }\n",
       "</style>\n",
       "<table border=\"1\" class=\"dataframe\">\n",
       "  <thead>\n",
       "    <tr style=\"text-align: right;\">\n",
       "      <th></th>\n",
       "      <th>text</th>\n",
       "      <th>labels</th>\n",
       "    </tr>\n",
       "  </thead>\n",
       "  <tbody>\n",
       "    <tr>\n",
       "      <th>22</th>\n",
       "      <td>👧 Who is #GretaThunberg? One of the world’s 10...</td>\n",
       "      <td>disgust</td>\n",
       "    </tr>\n",
       "    <tr>\n",
       "      <th>5225</th>\n",
       "      <td>Head up redmen. Played well tonight but footba...</td>\n",
       "      <td>joy</td>\n",
       "    </tr>\n",
       "    <tr>\n",
       "      <th>5501</th>\n",
       "      <td>#Breaking 》 USER sending a special message to ...</td>\n",
       "      <td>anger</td>\n",
       "    </tr>\n",
       "    <tr>\n",
       "      <th>1286</th>\n",
       "      <td>As you can tell, I am thankful for what has su...</td>\n",
       "      <td>joy</td>\n",
       "    </tr>\n",
       "    <tr>\n",
       "      <th>4869</th>\n",
       "      <td>USER This #coup will fail also, the #Venezuela...</td>\n",
       "      <td>sadness</td>\n",
       "    </tr>\n",
       "    <tr>\n",
       "      <th>...</th>\n",
       "      <td>...</td>\n",
       "      <td>...</td>\n",
       "    </tr>\n",
       "    <tr>\n",
       "      <th>1221</th>\n",
       "      <td>HAPPY #WORLDBOOKDAY FROM YOUR FAVORITE NEW YOR...</td>\n",
       "      <td>joy</td>\n",
       "    </tr>\n",
       "    <tr>\n",
       "      <th>5981</th>\n",
       "      <td>Just seen #GameofThrones 3rd episode. Great st...</td>\n",
       "      <td>joy</td>\n",
       "    </tr>\n",
       "    <tr>\n",
       "      <th>4516</th>\n",
       "      <td>Canny actually believe how good that episode o...</td>\n",
       "      <td>surprise</td>\n",
       "    </tr>\n",
       "    <tr>\n",
       "      <th>2125</th>\n",
       "      <td>FT: #Barcelona 1-0 #Levante. Leo #Messi (who e...</td>\n",
       "      <td>joy</td>\n",
       "    </tr>\n",
       "    <tr>\n",
       "      <th>1590</th>\n",
       "      <td>Take a look at how our team sensitively restor...</td>\n",
       "      <td>joy</td>\n",
       "    </tr>\n",
       "  </tbody>\n",
       "</table>\n",
       "<p>3186 rows × 2 columns</p>\n",
       "</div>"
      ]
     },
     "execution_count": 9,
     "metadata": {},
     "output_type": "execute_result"
    }
   ],
   "execution_count": 9
  },
  {
   "metadata": {},
   "cell_type": "markdown",
   "source": "### Shuffle Records",
   "id": "e35b41113e6cfaa7"
  },
  {
   "metadata": {
    "ExecuteTime": {
     "end_time": "2024-12-01T22:42:57.444738Z",
     "start_time": "2024-12-01T22:42:57.437326Z"
    }
   },
   "cell_type": "code",
   "source": [
    "df_train = df_train.sample(frac = 1, random_state = shuffle_random_seed)\n",
    "\n",
    "df_train"
   ],
   "id": "edb5912336d1ebff",
   "outputs": [
    {
     "data": {
      "text/plain": [
       "                                                   text   labels\n",
       "3946  USER USER Let's wait for the CIA controlled op...  disgust\n",
       "4732  Wanting to put an end to humanity's destructio...  disgust\n",
       "6197  Utterly unbelievable. Democrat 2020 candidates...  disgust\n",
       "1790  USER USER_CA do guys not understand what your ...  disgust\n",
       "4893  600 and one of his best … Magic from Messi #ba...      joy\n",
       "...                                                 ...      ...\n",
       "6220  Some things are too important to ignore- preor...      joy\n",
       "3057  Today is #WorldBookDay, so make sure you celeb...      joy\n",
       "6619  Happy #WorldBookDay 🤓🤓 (This is also the true ...      joy\n",
       "6037  This digital scan of Notre Dame offers hope fo...      joy\n",
       "3327  And the #UK Govmnt is one of the most pi$$ poo...  disgust\n",
       "\n",
       "[3186 rows x 2 columns]"
      ],
      "text/html": [
       "<div>\n",
       "<style scoped>\n",
       "    .dataframe tbody tr th:only-of-type {\n",
       "        vertical-align: middle;\n",
       "    }\n",
       "\n",
       "    .dataframe tbody tr th {\n",
       "        vertical-align: top;\n",
       "    }\n",
       "\n",
       "    .dataframe thead th {\n",
       "        text-align: right;\n",
       "    }\n",
       "</style>\n",
       "<table border=\"1\" class=\"dataframe\">\n",
       "  <thead>\n",
       "    <tr style=\"text-align: right;\">\n",
       "      <th></th>\n",
       "      <th>text</th>\n",
       "      <th>labels</th>\n",
       "    </tr>\n",
       "  </thead>\n",
       "  <tbody>\n",
       "    <tr>\n",
       "      <th>3946</th>\n",
       "      <td>USER USER Let's wait for the CIA controlled op...</td>\n",
       "      <td>disgust</td>\n",
       "    </tr>\n",
       "    <tr>\n",
       "      <th>4732</th>\n",
       "      <td>Wanting to put an end to humanity's destructio...</td>\n",
       "      <td>disgust</td>\n",
       "    </tr>\n",
       "    <tr>\n",
       "      <th>6197</th>\n",
       "      <td>Utterly unbelievable. Democrat 2020 candidates...</td>\n",
       "      <td>disgust</td>\n",
       "    </tr>\n",
       "    <tr>\n",
       "      <th>1790</th>\n",
       "      <td>USER USER_CA do guys not understand what your ...</td>\n",
       "      <td>disgust</td>\n",
       "    </tr>\n",
       "    <tr>\n",
       "      <th>4893</th>\n",
       "      <td>600 and one of his best … Magic from Messi #ba...</td>\n",
       "      <td>joy</td>\n",
       "    </tr>\n",
       "    <tr>\n",
       "      <th>...</th>\n",
       "      <td>...</td>\n",
       "      <td>...</td>\n",
       "    </tr>\n",
       "    <tr>\n",
       "      <th>6220</th>\n",
       "      <td>Some things are too important to ignore- preor...</td>\n",
       "      <td>joy</td>\n",
       "    </tr>\n",
       "    <tr>\n",
       "      <th>3057</th>\n",
       "      <td>Today is #WorldBookDay, so make sure you celeb...</td>\n",
       "      <td>joy</td>\n",
       "    </tr>\n",
       "    <tr>\n",
       "      <th>6619</th>\n",
       "      <td>Happy #WorldBookDay 🤓🤓 (This is also the true ...</td>\n",
       "      <td>joy</td>\n",
       "    </tr>\n",
       "    <tr>\n",
       "      <th>6037</th>\n",
       "      <td>This digital scan of Notre Dame offers hope fo...</td>\n",
       "      <td>joy</td>\n",
       "    </tr>\n",
       "    <tr>\n",
       "      <th>3327</th>\n",
       "      <td>And the #UK Govmnt is one of the most pi$$ poo...</td>\n",
       "      <td>disgust</td>\n",
       "    </tr>\n",
       "  </tbody>\n",
       "</table>\n",
       "<p>3186 rows × 2 columns</p>\n",
       "</div>"
      ]
     },
     "execution_count": 10,
     "metadata": {},
     "output_type": "execute_result"
    }
   ],
   "execution_count": 10
  },
  {
   "metadata": {
    "ExecuteTime": {
     "end_time": "2024-12-01T22:42:57.579816Z",
     "start_time": "2024-12-01T22:42:57.574819Z"
    }
   },
   "cell_type": "code",
   "source": [
    "num_labels = df_real[\"labels\"].nunique()\n",
    "label_names = df_real[\"labels\"].unique()\n",
    "print(f\"{num_labels} : {label_names}\")"
   ],
   "id": "a98daf63e15e6ca8",
   "outputs": [
    {
     "name": "stdout",
     "output_type": "stream",
     "text": [
      "6 : ['disgust' 'joy' 'anger' 'sadness' 'surprise' 'fear']\n"
     ]
    }
   ],
   "execution_count": 11
  },
  {
   "metadata": {},
   "cell_type": "markdown",
   "source": "## Encode Labels",
   "id": "98273a6afa3d4ab3"
  },
  {
   "metadata": {
    "ExecuteTime": {
     "end_time": "2024-12-01T22:42:57.752817Z",
     "start_time": "2024-12-01T22:42:57.742641Z"
    }
   },
   "cell_type": "code",
   "source": [
    "from sklearn.preprocessing import LabelEncoder\n",
    "\n",
    "le = LabelEncoder()\n",
    "le.fit(df_train[\"labels\"])\n",
    "\n",
    "df_train[\"labels\"] = le.transform(df_train[\"labels\"])\n",
    "df_test[\"labels\"] = le.transform(df_test[\"labels\"])\n",
    "\n",
    "df_train"
   ],
   "id": "62df624500a53145",
   "outputs": [
    {
     "data": {
      "text/plain": [
       "                                                   text  labels\n",
       "3946  USER USER Let's wait for the CIA controlled op...       1\n",
       "4732  Wanting to put an end to humanity's destructio...       1\n",
       "6197  Utterly unbelievable. Democrat 2020 candidates...       1\n",
       "1790  USER USER_CA do guys not understand what your ...       1\n",
       "4893  600 and one of his best … Magic from Messi #ba...       3\n",
       "...                                                 ...     ...\n",
       "6220  Some things are too important to ignore- preor...       3\n",
       "3057  Today is #WorldBookDay, so make sure you celeb...       3\n",
       "6619  Happy #WorldBookDay 🤓🤓 (This is also the true ...       3\n",
       "6037  This digital scan of Notre Dame offers hope fo...       3\n",
       "3327  And the #UK Govmnt is one of the most pi$$ poo...       1\n",
       "\n",
       "[3186 rows x 2 columns]"
      ],
      "text/html": [
       "<div>\n",
       "<style scoped>\n",
       "    .dataframe tbody tr th:only-of-type {\n",
       "        vertical-align: middle;\n",
       "    }\n",
       "\n",
       "    .dataframe tbody tr th {\n",
       "        vertical-align: top;\n",
       "    }\n",
       "\n",
       "    .dataframe thead th {\n",
       "        text-align: right;\n",
       "    }\n",
       "</style>\n",
       "<table border=\"1\" class=\"dataframe\">\n",
       "  <thead>\n",
       "    <tr style=\"text-align: right;\">\n",
       "      <th></th>\n",
       "      <th>text</th>\n",
       "      <th>labels</th>\n",
       "    </tr>\n",
       "  </thead>\n",
       "  <tbody>\n",
       "    <tr>\n",
       "      <th>3946</th>\n",
       "      <td>USER USER Let's wait for the CIA controlled op...</td>\n",
       "      <td>1</td>\n",
       "    </tr>\n",
       "    <tr>\n",
       "      <th>4732</th>\n",
       "      <td>Wanting to put an end to humanity's destructio...</td>\n",
       "      <td>1</td>\n",
       "    </tr>\n",
       "    <tr>\n",
       "      <th>6197</th>\n",
       "      <td>Utterly unbelievable. Democrat 2020 candidates...</td>\n",
       "      <td>1</td>\n",
       "    </tr>\n",
       "    <tr>\n",
       "      <th>1790</th>\n",
       "      <td>USER USER_CA do guys not understand what your ...</td>\n",
       "      <td>1</td>\n",
       "    </tr>\n",
       "    <tr>\n",
       "      <th>4893</th>\n",
       "      <td>600 and one of his best … Magic from Messi #ba...</td>\n",
       "      <td>3</td>\n",
       "    </tr>\n",
       "    <tr>\n",
       "      <th>...</th>\n",
       "      <td>...</td>\n",
       "      <td>...</td>\n",
       "    </tr>\n",
       "    <tr>\n",
       "      <th>6220</th>\n",
       "      <td>Some things are too important to ignore- preor...</td>\n",
       "      <td>3</td>\n",
       "    </tr>\n",
       "    <tr>\n",
       "      <th>3057</th>\n",
       "      <td>Today is #WorldBookDay, so make sure you celeb...</td>\n",
       "      <td>3</td>\n",
       "    </tr>\n",
       "    <tr>\n",
       "      <th>6619</th>\n",
       "      <td>Happy #WorldBookDay 🤓🤓 (This is also the true ...</td>\n",
       "      <td>3</td>\n",
       "    </tr>\n",
       "    <tr>\n",
       "      <th>6037</th>\n",
       "      <td>This digital scan of Notre Dame offers hope fo...</td>\n",
       "      <td>3</td>\n",
       "    </tr>\n",
       "    <tr>\n",
       "      <th>3327</th>\n",
       "      <td>And the #UK Govmnt is one of the most pi$$ poo...</td>\n",
       "      <td>1</td>\n",
       "    </tr>\n",
       "  </tbody>\n",
       "</table>\n",
       "<p>3186 rows × 2 columns</p>\n",
       "</div>"
      ]
     },
     "execution_count": 12,
     "metadata": {},
     "output_type": "execute_result"
    }
   ],
   "execution_count": 12
  },
  {
   "metadata": {},
   "cell_type": "markdown",
   "source": "## Train Model",
   "id": "7af854d90edb5b65"
  },
  {
   "metadata": {
    "ExecuteTime": {
     "end_time": "2024-12-01T22:42:57.852240Z",
     "start_time": "2024-12-01T22:42:57.848450Z"
    }
   },
   "cell_type": "code",
   "source": [
    "import gc\n",
    "\n",
    "def clear_cache(model, optimizer):\n",
    "    device = 'cuda' if torch.cuda.is_available() else 'cpu'\n",
    "    with torch.no_grad():\n",
    "        torch.cuda.empty_cache()\n",
    "    gc.collect()"
   ],
   "id": "254edd848f6e2af4",
   "outputs": [],
   "execution_count": 13
  },
  {
   "metadata": {
    "ExecuteTime": {
     "end_time": "2024-12-01T22:44:10.266910Z",
     "start_time": "2024-12-01T22:42:57.948215Z"
    }
   },
   "cell_type": "code",
   "source": [
    "from simpletransformers.classification import ClassificationModel, ClassificationArgs\n",
    "\n",
    "import os\n",
    "os.environ['HF_HOME'] = '/transformers/cache_dir/'\n",
    "\n",
    "model_args = ClassificationArgs()\n",
    "model_args.overwrite_output_dir = True\n",
    "model_args.cache_dir = \"transformers/cache_dir\"\n",
    "model_args.tensorboard_dir = \"transformers/runs\"\n",
    "model_args.output_dir = f\"transformers/outputs/{dataset_metadata[\"id\"]}/raw/\"\n",
    "model_args.num_train_epochs = epochs\n",
    "model_args.manual_seed = classifier_random_seed\n",
    "# model_args.custom_callback = clear_cache\n",
    "\n",
    "model = ClassificationModel(\n",
    "    classifier.lower(), model,\n",
    "    use_cuda=True,\n",
    "    num_labels=num_labels,\n",
    "    args=model_args\n",
    ")\n",
    "\n",
    "if fine_tune_model:\n",
    "    model.train_model(df_train)"
   ],
   "id": "2936550c6cce1f69",
   "outputs": [
    {
     "name": "stderr",
     "output_type": "stream",
     "text": [
      "Some weights of RobertaForSequenceClassification were not initialized from the model checkpoint at roberta-base and are newly initialized: ['classifier.dense.bias', 'classifier.dense.weight', 'classifier.out_proj.bias', 'classifier.out_proj.weight']\n",
      "You should probably TRAIN this model on a down-stream task to be able to use it for predictions and inference.\n"
     ]
    },
    {
     "data": {
      "text/plain": [
       "  0%|          | 0/6 [00:00<?, ?it/s]"
      ],
      "application/vnd.jupyter.widget-view+json": {
       "version_major": 2,
       "version_minor": 0,
       "model_id": "dafbf7e5ec7f4b59ad038e57be136988"
      }
     },
     "metadata": {},
     "output_type": "display_data"
    },
    {
     "data": {
      "text/plain": [
       "Epoch:   0%|          | 0/2 [00:00<?, ?it/s]"
      ],
      "application/vnd.jupyter.widget-view+json": {
       "version_major": 2,
       "version_minor": 0,
       "model_id": "9922c3f55d2a45c5b482052ada318774"
      }
     },
     "metadata": {},
     "output_type": "display_data"
    },
    {
     "data": {
      "text/plain": [
       "Running Epoch 1 of 2:   0%|          | 0/399 [00:00<?, ?it/s]"
      ],
      "application/vnd.jupyter.widget-view+json": {
       "version_major": 2,
       "version_minor": 0,
       "model_id": "59a1420bcdd84b6fa898a003bbe54545"
      }
     },
     "metadata": {},
     "output_type": "display_data"
    },
    {
     "name": "stderr",
     "output_type": "stream",
     "text": [
      "C:\\Users\\Dave\\.conda\\envs\\nlp_aug\\Lib\\site-packages\\transformers\\models\\roberta\\modeling_roberta.py:370: UserWarning: 1Torch was not compiled with flash attention. (Triggered internally at C:\\cb\\pytorch_1000000000000\\work\\aten\\src\\ATen\\native\\transformers\\cuda\\sdp_utils.cpp:455.)\n",
      "  attn_output = torch.nn.functional.scaled_dot_product_attention(\n"
     ]
    },
    {
     "data": {
      "text/plain": [
       "Running Epoch 2 of 2:   0%|          | 0/399 [00:00<?, ?it/s]"
      ],
      "application/vnd.jupyter.widget-view+json": {
       "version_major": 2,
       "version_minor": 0,
       "model_id": "11cd8fa7635c4404b20b7bfcd735b01c"
      }
     },
     "metadata": {},
     "output_type": "display_data"
    }
   ],
   "execution_count": 14
  },
  {
   "metadata": {},
   "cell_type": "markdown",
   "source": "### Get Predictions",
   "id": "bd901333b5544f0b"
  },
  {
   "metadata": {
    "ExecuteTime": {
     "end_time": "2024-12-01T22:44:19.946771Z",
     "start_time": "2024-12-01T22:44:10.340700Z"
    }
   },
   "cell_type": "code",
   "source": "predictions, raw_outputs = model.predict(df_test.text.tolist())",
   "id": "92589928a312d2cc",
   "outputs": [
    {
     "data": {
      "text/plain": [
       "  0%|          | 0/1 [00:00<?, ?it/s]"
      ],
      "application/vnd.jupyter.widget-view+json": {
       "version_major": 2,
       "version_minor": 0,
       "model_id": "8d45ec17a9dc41ffa6f1b1e8d9a0793f"
      }
     },
     "metadata": {},
     "output_type": "display_data"
    },
    {
     "data": {
      "text/plain": [
       "  0%|          | 0/8 [00:00<?, ?it/s]"
      ],
      "application/vnd.jupyter.widget-view+json": {
       "version_major": 2,
       "version_minor": 0,
       "model_id": "7eaf51a0a45c4393afd15d0bd81a128c"
      }
     },
     "metadata": {},
     "output_type": "display_data"
    }
   ],
   "execution_count": 15
  },
  {
   "metadata": {},
   "cell_type": "markdown",
   "source": "# Evaluation",
   "id": "ecdeffb3b149b632"
  },
  {
   "metadata": {},
   "cell_type": "markdown",
   "source": "## Metrics",
   "id": "5649dad316ec080c"
  },
  {
   "metadata": {
    "ExecuteTime": {
     "end_time": "2024-12-01T22:44:19.962889Z",
     "start_time": "2024-12-01T22:44:19.950776Z"
    }
   },
   "cell_type": "code",
   "source": [
    "from sklearn.metrics import classification_report, confusion_matrix\n",
    "\n",
    "labels = df_test[\"labels\"].unique()\n",
    "labels.sort()\n",
    "\n",
    "print(classification_report(df_test[\"labels\"], \n",
    "                            predictions, \n",
    "                            labels = labels,\n",
    "                            target_names = le.inverse_transform(labels)\n",
    "                            )\n",
    "      )"
   ],
   "id": "e7d8c1806556340c",
   "outputs": [
    {
     "name": "stdout",
     "output_type": "stream",
     "text": [
      "              precision    recall  f1-score   support\n",
      "\n",
      "       anger       0.49      0.32      0.39        78\n",
      "     disgust       0.62      0.68      0.65       152\n",
      "        fear       0.43      0.63      0.51        30\n",
      "         joy       0.88      0.92      0.90       407\n",
      "     sadness       0.77      0.73      0.75        83\n",
      "    surprise       0.59      0.43      0.49        47\n",
      "\n",
      "    accuracy                           0.76       797\n",
      "   macro avg       0.63      0.62      0.62       797\n",
      "weighted avg       0.75      0.76      0.75       797\n",
      "\n"
     ]
    }
   ],
   "execution_count": 16
  },
  {
   "metadata": {
    "ExecuteTime": {
     "end_time": "2024-12-01T22:44:19.981908Z",
     "start_time": "2024-12-01T22:44:19.975067Z"
    }
   },
   "cell_type": "code",
   "source": [
    "from IPython.display import display\n",
    "\n",
    "display(confusion_matrix(df_test['labels'], predictions))"
   ],
   "id": "b35477228c4235b0",
   "outputs": [
    {
     "data": {
      "text/plain": [
       "array([[ 25,  42,   5,   4,   1,   1],\n",
       "       [ 17, 103,   7,  15,   8,   2],\n",
       "       [  1,   1,  19,   4,   3,   2],\n",
       "       [  4,   9,   6, 375,   6,   7],\n",
       "       [  2,   6,   4,   8,  61,   2],\n",
       "       [  2,   4,   3,  18,   0,  20]], dtype=int64)"
      ]
     },
     "metadata": {},
     "output_type": "display_data"
    }
   ],
   "execution_count": 17
  },
  {
   "metadata": {},
   "cell_type": "markdown",
   "source": "## Misclassified Records",
   "id": "80fd6aebbf545b65"
  },
  {
   "metadata": {
    "ExecuteTime": {
     "end_time": "2024-12-01T22:44:20.261299Z",
     "start_time": "2024-12-01T22:44:20.003273Z"
    }
   },
   "cell_type": "code",
   "source": [
    "import seaborn as sns\n",
    "import matplotlib.pyplot as plt\n",
    "\n",
    "plt.figure(figsize=(10, 8))\n",
    "sns.heatmap(confusion_matrix(df_test[\"labels\"], predictions),\n",
    "            xticklabels=le.classes_, yticklabels=le.classes_,\n",
    "            annot=True, fmt=\"d\",\n",
    "            cmap=\"rocket\")\n",
    "\n",
    "plt.title(f\"Non-Augmented Dataset\\n\"\n",
    "          f\"({classifier}, {epochs} Epochs, Seed {classifier_random_seed})\")\n",
    "plt.xlabel(\"Predicted Label\")\n",
    "plt.ylabel(\"True Label\")\n",
    "\n",
    "plt.show()"
   ],
   "id": "caf5a956e3439c83",
   "outputs": [
    {
     "data": {
      "text/plain": [
       "<Figure size 1000x800 with 2 Axes>"
      ],
      "image/png": "[encoded data removed]"
     },
     "metadata": {},
     "output_type": "display_data"
    }
   ],
   "execution_count": 18
  },
  {
   "metadata": {
    "ExecuteTime": {
     "end_time": "2024-12-01T22:44:20.279493Z",
     "start_time": "2024-12-01T22:44:20.274816Z"
    }
   },
   "cell_type": "code",
   "source": [
    "df_test[\"labels\"] = le.inverse_transform(df_test[\"labels\"])\n",
    "df_test[\"predict\"] = le.inverse_transform(predictions)"
   ],
   "id": "6fa9b80c3d2c3d05",
   "outputs": [],
   "execution_count": 19
  },
  {
   "metadata": {
    "ExecuteTime": {
     "end_time": "2024-12-01T22:44:20.301470Z",
     "start_time": "2024-12-01T22:44:20.292004Z"
    }
   },
   "cell_type": "code",
   "source": [
    "df_test[(df_test[\"labels\"] == \"anger\") \n",
    "        & (df_test[\"predict\"] == \"disgust\")]"
   ],
   "id": "76b7a1862928b7d5",
   "outputs": [
    {
     "data": {
      "text/plain": [
       "                                                   text labels  predict\n",
       "5886  Conflict theory is once more implemented in #V...  anger  disgust\n",
       "4408  Please pray for the #Venezuela people 🙏🏼 looks...  anger  disgust\n",
       "2809  USER Lies.  The small orange penis wants to se...  anger  disgust\n",
       "1969  This is the point where idiots confuse a thiev...  anger  disgust\n",
       "6653  USER USER is not wrong in the fact that the en...  anger  disgust\n",
       "3585  Either the US made many of the blows in the wo...  anger  disgust\n",
       "888   Suarez at his ugliest best. A real pain in the...  anger  disgust\n",
       "4965  USER You might want to tag on an addendum to t...  anger  disgust\n",
       "5041  I'm upset by how many people are now talking a...  anger  disgust\n",
       "4866  I do not care if you view CNN as faker than a ...  anger  disgust\n",
       "3924  Liverpool fans are so deluded they probably th...  anger  disgust\n",
       "5944  The #zionist/#CIA crime in #Venezuela has FAIL...  anger  disgust\n",
       "856   As far as I'm concerned i believe USER started...  anger  disgust\n",
       "5911  This is horrific, Trump allows #Putin to viola...  anger  disgust\n",
       "1628  #NotreDameCathedralFire 1 Billion Raised to re...  anger  disgust\n",
       "2284  USER USER Killer jokes. Speaking of killer, I ...  anger  disgust\n",
       "5219  Hey John, when will you authorise the deployme...  anger  disgust\n",
       "3649  Socialism kills.   Jacinda Ardern is a sociali...  anger  disgust\n",
       "657   Go and punch the air to the fans now u soppy c...  anger  disgust\n",
       "6503  USER Don't you get the feeling RS trolls peopl...  anger  disgust\n",
       "1821  USER USER USER watch this video while the fire...  anger  disgust\n",
       "331   Our current living conditions in the United St...  anger  disgust\n",
       "1726  Is Australia’s Notre Dame the Great Barrier Re...  anger  disgust\n",
       "1259  Leave it to USER to be in favor of starving su...  anger  disgust\n",
       "2522  Don’t get me wrong #NotreDame was a tragedy bu...  anger  disgust\n",
       "301   USER Better get things right USER, otherwhise ...  anger  disgust\n",
       "4517  Dembele is so useless... Passing up getting a ...  anger  disgust\n",
       "994   The fire was still burning strong when the Fre...  anger  disgust\n",
       "3124  #Venezuela outlawed civilian gun ownership jus...  anger  disgust\n",
       "5047  Yet no fucker wanted to pay out to all the vic...  anger  disgust\n",
       "5875  Hardly a coup is it?  More of a propaganda stu...  anger  disgust\n",
       "935   A peaceful solution is what USER has used sinc...  anger  disgust\n",
       "927   Why USER is one of the biggest assholes playin...  anger  disgust\n",
       "6353  What an ugly, cynical dumpster fire of an arti...  anger  disgust\n",
       "1995  Referee inconsistencies is killing the beautif...  anger  disgust\n",
       "5291  Today in fake news: Trump talks to the heads o...  anger  disgust\n",
       "868   USER ..........  so sad about #NotreDameCathed...  anger  disgust\n",
       "3583  SURPRISE 🎉    The #Venezuela movers and shaker...  anger  disgust\n",
       "7243  USER have you and your followers been watching...  anger  disgust\n",
       "167   USER USER A US backed coup.......what could go...  anger  disgust\n",
       "2023  USER USER You stand with the oil and wealth th...  anger  disgust\n",
       "2017  Now ya all know English teams are shit at #Cha...  anger  disgust"
      ],
      "text/html": [
       "<div>\n",
       "<style scoped>\n",
       "    .dataframe tbody tr th:only-of-type {\n",
       "        vertical-align: middle;\n",
       "    }\n",
       "\n",
       "    .dataframe tbody tr th {\n",
       "        vertical-align: top;\n",
       "    }\n",
       "\n",
       "    .dataframe thead th {\n",
       "        text-align: right;\n",
       "    }\n",
       "</style>\n",
       "<table border=\"1\" class=\"dataframe\">\n",
       "  <thead>\n",
       "    <tr style=\"text-align: right;\">\n",
       "      <th></th>\n",
       "      <th>text</th>\n",
       "      <th>labels</th>\n",
       "      <th>predict</th>\n",
       "    </tr>\n",
       "  </thead>\n",
       "  <tbody>\n",
       "    <tr>\n",
       "      <th>5886</th>\n",
       "      <td>Conflict theory is once more implemented in #V...</td>\n",
       "      <td>anger</td>\n",
       "      <td>disgust</td>\n",
       "    </tr>\n",
       "    <tr>\n",
       "      <th>4408</th>\n",
       "      <td>Please pray for the #Venezuela people 🙏🏼 looks...</td>\n",
       "      <td>anger</td>\n",
       "      <td>disgust</td>\n",
       "    </tr>\n",
       "    <tr>\n",
       "      <th>2809</th>\n",
       "      <td>USER Lies.  The small orange penis wants to se...</td>\n",
       "      <td>anger</td>\n",
       "      <td>disgust</td>\n",
       "    </tr>\n",
       "    <tr>\n",
       "      <th>1969</th>\n",
       "      <td>This is the point where idiots confuse a thiev...</td>\n",
       "      <td>anger</td>\n",
       "      <td>disgust</td>\n",
       "    </tr>\n",
       "    <tr>\n",
       "      <th>6653</th>\n",
       "      <td>USER USER is not wrong in the fact that the en...</td>\n",
       "      <td>anger</td>\n",
       "      <td>disgust</td>\n",
       "    </tr>\n",
       "    <tr>\n",
       "      <th>3585</th>\n",
       "      <td>Either the US made many of the blows in the wo...</td>\n",
       "      <td>anger</td>\n",
       "      <td>disgust</td>\n",
       "    </tr>\n",
       "    <tr>\n",
       "      <th>888</th>\n",
       "      <td>Suarez at his ugliest best. A real pain in the...</td>\n",
       "      <td>anger</td>\n",
       "      <td>disgust</td>\n",
       "    </tr>\n",
       "    <tr>\n",
       "      <th>4965</th>\n",
       "      <td>USER You might want to tag on an addendum to t...</td>\n",
       "      <td>anger</td>\n",
       "      <td>disgust</td>\n",
       "    </tr>\n",
       "    <tr>\n",
       "      <th>5041</th>\n",
       "      <td>I'm upset by how many people are now talking a...</td>\n",
       "      <td>anger</td>\n",
       "      <td>disgust</td>\n",
       "    </tr>\n",
       "    <tr>\n",
       "      <th>4866</th>\n",
       "      <td>I do not care if you view CNN as faker than a ...</td>\n",
       "      <td>anger</td>\n",
       "      <td>disgust</td>\n",
       "    </tr>\n",
       "    <tr>\n",
       "      <th>3924</th>\n",
       "      <td>Liverpool fans are so deluded they probably th...</td>\n",
       "      <td>anger</td>\n",
       "      <td>disgust</td>\n",
       "    </tr>\n",
       "    <tr>\n",
       "      <th>5944</th>\n",
       "      <td>The #zionist/#CIA crime in #Venezuela has FAIL...</td>\n",
       "      <td>anger</td>\n",
       "      <td>disgust</td>\n",
       "    </tr>\n",
       "    <tr>\n",
       "      <th>856</th>\n",
       "      <td>As far as I'm concerned i believe USER started...</td>\n",
       "      <td>anger</td>\n",
       "      <td>disgust</td>\n",
       "    </tr>\n",
       "    <tr>\n",
       "      <th>5911</th>\n",
       "      <td>This is horrific, Trump allows #Putin to viola...</td>\n",
       "      <td>anger</td>\n",
       "      <td>disgust</td>\n",
       "    </tr>\n",
       "    <tr>\n",
       "      <th>1628</th>\n",
       "      <td>#NotreDameCathedralFire 1 Billion Raised to re...</td>\n",
       "      <td>anger</td>\n",
       "      <td>disgust</td>\n",
       "    </tr>\n",
       "    <tr>\n",
       "      <th>2284</th>\n",
       "      <td>USER USER Killer jokes. Speaking of killer, I ...</td>\n",
       "      <td>anger</td>\n",
       "      <td>disgust</td>\n",
       "    </tr>\n",
       "    <tr>\n",
       "      <th>5219</th>\n",
       "      <td>Hey John, when will you authorise the deployme...</td>\n",
       "      <td>anger</td>\n",
       "      <td>disgust</td>\n",
       "    </tr>\n",
       "    <tr>\n",
       "      <th>3649</th>\n",
       "      <td>Socialism kills.   Jacinda Ardern is a sociali...</td>\n",
       "      <td>anger</td>\n",
       "      <td>disgust</td>\n",
       "    </tr>\n",
       "    <tr>\n",
       "      <th>657</th>\n",
       "      <td>Go and punch the air to the fans now u soppy c...</td>\n",
       "      <td>anger</td>\n",
       "      <td>disgust</td>\n",
       "    </tr>\n",
       "    <tr>\n",
       "      <th>6503</th>\n",
       "      <td>USER Don't you get the feeling RS trolls peopl...</td>\n",
       "      <td>anger</td>\n",
       "      <td>disgust</td>\n",
       "    </tr>\n",
       "    <tr>\n",
       "      <th>1821</th>\n",
       "      <td>USER USER USER watch this video while the fire...</td>\n",
       "      <td>anger</td>\n",
       "      <td>disgust</td>\n",
       "    </tr>\n",
       "    <tr>\n",
       "      <th>331</th>\n",
       "      <td>Our current living conditions in the United St...</td>\n",
       "      <td>anger</td>\n",
       "      <td>disgust</td>\n",
       "    </tr>\n",
       "    <tr>\n",
       "      <th>1726</th>\n",
       "      <td>Is Australia’s Notre Dame the Great Barrier Re...</td>\n",
       "      <td>anger</td>\n",
       "      <td>disgust</td>\n",
       "    </tr>\n",
       "    <tr>\n",
       "      <th>1259</th>\n",
       "      <td>Leave it to USER to be in favor of starving su...</td>\n",
       "      <td>anger</td>\n",
       "      <td>disgust</td>\n",
       "    </tr>\n",
       "    <tr>\n",
       "      <th>2522</th>\n",
       "      <td>Don’t get me wrong #NotreDame was a tragedy bu...</td>\n",
       "      <td>anger</td>\n",
       "      <td>disgust</td>\n",
       "    </tr>\n",
       "    <tr>\n",
       "      <th>301</th>\n",
       "      <td>USER Better get things right USER, otherwhise ...</td>\n",
       "      <td>anger</td>\n",
       "      <td>disgust</td>\n",
       "    </tr>\n",
       "    <tr>\n",
       "      <th>4517</th>\n",
       "      <td>Dembele is so useless... Passing up getting a ...</td>\n",
       "      <td>anger</td>\n",
       "      <td>disgust</td>\n",
       "    </tr>\n",
       "    <tr>\n",
       "      <th>994</th>\n",
       "      <td>The fire was still burning strong when the Fre...</td>\n",
       "      <td>anger</td>\n",
       "      <td>disgust</td>\n",
       "    </tr>\n",
       "    <tr>\n",
       "      <th>3124</th>\n",
       "      <td>#Venezuela outlawed civilian gun ownership jus...</td>\n",
       "      <td>anger</td>\n",
       "      <td>disgust</td>\n",
       "    </tr>\n",
       "    <tr>\n",
       "      <th>5047</th>\n",
       "      <td>Yet no fucker wanted to pay out to all the vic...</td>\n",
       "      <td>anger</td>\n",
       "      <td>disgust</td>\n",
       "    </tr>\n",
       "    <tr>\n",
       "      <th>5875</th>\n",
       "      <td>Hardly a coup is it?  More of a propaganda stu...</td>\n",
       "      <td>anger</td>\n",
       "      <td>disgust</td>\n",
       "    </tr>\n",
       "    <tr>\n",
       "      <th>935</th>\n",
       "      <td>A peaceful solution is what USER has used sinc...</td>\n",
       "      <td>anger</td>\n",
       "      <td>disgust</td>\n",
       "    </tr>\n",
       "    <tr>\n",
       "      <th>927</th>\n",
       "      <td>Why USER is one of the biggest assholes playin...</td>\n",
       "      <td>anger</td>\n",
       "      <td>disgust</td>\n",
       "    </tr>\n",
       "    <tr>\n",
       "      <th>6353</th>\n",
       "      <td>What an ugly, cynical dumpster fire of an arti...</td>\n",
       "      <td>anger</td>\n",
       "      <td>disgust</td>\n",
       "    </tr>\n",
       "    <tr>\n",
       "      <th>1995</th>\n",
       "      <td>Referee inconsistencies is killing the beautif...</td>\n",
       "      <td>anger</td>\n",
       "      <td>disgust</td>\n",
       "    </tr>\n",
       "    <tr>\n",
       "      <th>5291</th>\n",
       "      <td>Today in fake news: Trump talks to the heads o...</td>\n",
       "      <td>anger</td>\n",
       "      <td>disgust</td>\n",
       "    </tr>\n",
       "    <tr>\n",
       "      <th>868</th>\n",
       "      <td>USER ..........  so sad about #NotreDameCathed...</td>\n",
       "      <td>anger</td>\n",
       "      <td>disgust</td>\n",
       "    </tr>\n",
       "    <tr>\n",
       "      <th>3583</th>\n",
       "      <td>SURPRISE 🎉    The #Venezuela movers and shaker...</td>\n",
       "      <td>anger</td>\n",
       "      <td>disgust</td>\n",
       "    </tr>\n",
       "    <tr>\n",
       "      <th>7243</th>\n",
       "      <td>USER have you and your followers been watching...</td>\n",
       "      <td>anger</td>\n",
       "      <td>disgust</td>\n",
       "    </tr>\n",
       "    <tr>\n",
       "      <th>167</th>\n",
       "      <td>USER USER A US backed coup.......what could go...</td>\n",
       "      <td>anger</td>\n",
       "      <td>disgust</td>\n",
       "    </tr>\n",
       "    <tr>\n",
       "      <th>2023</th>\n",
       "      <td>USER USER You stand with the oil and wealth th...</td>\n",
       "      <td>anger</td>\n",
       "      <td>disgust</td>\n",
       "    </tr>\n",
       "    <tr>\n",
       "      <th>2017</th>\n",
       "      <td>Now ya all know English teams are shit at #Cha...</td>\n",
       "      <td>anger</td>\n",
       "      <td>disgust</td>\n",
       "    </tr>\n",
       "  </tbody>\n",
       "</table>\n",
       "</div>"
      ]
     },
     "execution_count": 20,
     "metadata": {},
     "output_type": "execute_result"
    }
   ],
   "execution_count": 20
  },
  {
   "metadata": {
    "ExecuteTime": {
     "end_time": "2024-12-01T22:44:20.350813Z",
     "start_time": "2024-12-01T22:44:20.342474Z"
    }
   },
   "cell_type": "code",
   "source": "df_test[df_test[\"labels\"] != df_test[\"predict\"]]",
   "id": "b3ae2ffb9d9df16d",
   "outputs": [
    {
     "data": {
      "text/plain": [
       "                                                   text    labels   predict\n",
       "3632  Spending the next 2 weeks traveling the world ...   disgust       joy\n",
       "576     what a fucking 80mins of tele 😳😂 #GameofThrones       joy  surprise\n",
       "3637  So many people on the left, in the centre, and...   sadness   disgust\n",
       "6014  GOT 2x last night and a first time matinee of ...   sadness       joy\n",
       "5886  Conflict theory is once more implemented in #V...     anger   disgust\n",
       "...                                                 ...       ...       ...\n",
       "4558  Messi showing pure emotion yelling at Vidal to...  surprise       joy\n",
       "4156  Well, that could have gone better...  But 3-0 ...      fear       joy\n",
       "3052  I don't wanna be left happy and relieved at th...   disgust   sadness\n",
       "2017  Now ya all know English teams are shit at #Cha...     anger   disgust\n",
       "4281  It'd be glorious poetic Justice if #Maduro is ...   disgust       joy\n",
       "\n",
       "[194 rows x 3 columns]"
      ],
      "text/html": [
       "<div>\n",
       "<style scoped>\n",
       "    .dataframe tbody tr th:only-of-type {\n",
       "        vertical-align: middle;\n",
       "    }\n",
       "\n",
       "    .dataframe tbody tr th {\n",
       "        vertical-align: top;\n",
       "    }\n",
       "\n",
       "    .dataframe thead th {\n",
       "        text-align: right;\n",
       "    }\n",
       "</style>\n",
       "<table border=\"1\" class=\"dataframe\">\n",
       "  <thead>\n",
       "    <tr style=\"text-align: right;\">\n",
       "      <th></th>\n",
       "      <th>text</th>\n",
       "      <th>labels</th>\n",
       "      <th>predict</th>\n",
       "    </tr>\n",
       "  </thead>\n",
       "  <tbody>\n",
       "    <tr>\n",
       "      <th>3632</th>\n",
       "      <td>Spending the next 2 weeks traveling the world ...</td>\n",
       "      <td>disgust</td>\n",
       "      <td>joy</td>\n",
       "    </tr>\n",
       "    <tr>\n",
       "      <th>576</th>\n",
       "      <td>what a fucking 80mins of tele 😳😂 #GameofThrones</td>\n",
       "      <td>joy</td>\n",
       "      <td>surprise</td>\n",
       "    </tr>\n",
       "    <tr>\n",
       "      <th>3637</th>\n",
       "      <td>So many people on the left, in the centre, and...</td>\n",
       "      <td>sadness</td>\n",
       "      <td>disgust</td>\n",
       "    </tr>\n",
       "    <tr>\n",
       "      <th>6014</th>\n",
       "      <td>GOT 2x last night and a first time matinee of ...</td>\n",
       "      <td>sadness</td>\n",
       "      <td>joy</td>\n",
       "    </tr>\n",
       "    <tr>\n",
       "      <th>5886</th>\n",
       "      <td>Conflict theory is once more implemented in #V...</td>\n",
       "      <td>anger</td>\n",
       "      <td>disgust</td>\n",
       "    </tr>\n",
       "    <tr>\n",
       "      <th>...</th>\n",
       "      <td>...</td>\n",
       "      <td>...</td>\n",
       "      <td>...</td>\n",
       "    </tr>\n",
       "    <tr>\n",
       "      <th>4558</th>\n",
       "      <td>Messi showing pure emotion yelling at Vidal to...</td>\n",
       "      <td>surprise</td>\n",
       "      <td>joy</td>\n",
       "    </tr>\n",
       "    <tr>\n",
       "      <th>4156</th>\n",
       "      <td>Well, that could have gone better...  But 3-0 ...</td>\n",
       "      <td>fear</td>\n",
       "      <td>joy</td>\n",
       "    </tr>\n",
       "    <tr>\n",
       "      <th>3052</th>\n",
       "      <td>I don't wanna be left happy and relieved at th...</td>\n",
       "      <td>disgust</td>\n",
       "      <td>sadness</td>\n",
       "    </tr>\n",
       "    <tr>\n",
       "      <th>2017</th>\n",
       "      <td>Now ya all know English teams are shit at #Cha...</td>\n",
       "      <td>anger</td>\n",
       "      <td>disgust</td>\n",
       "    </tr>\n",
       "    <tr>\n",
       "      <th>4281</th>\n",
       "      <td>It'd be glorious poetic Justice if #Maduro is ...</td>\n",
       "      <td>disgust</td>\n",
       "      <td>joy</td>\n",
       "    </tr>\n",
       "  </tbody>\n",
       "</table>\n",
       "<p>194 rows × 3 columns</p>\n",
       "</div>"
      ]
     },
     "execution_count": 21,
     "metadata": {},
     "output_type": "execute_result"
    }
   ],
   "execution_count": 21
  },
  {
   "metadata": {
    "ExecuteTime": {
     "end_time": "2024-12-01T22:44:20.543534Z",
     "start_time": "2024-12-01T22:44:20.392824Z"
    }
   },
   "cell_type": "code",
   "source": [
    "# Remove model from GPU memory\n",
    "import gc\n",
    "\n",
    "with torch.no_grad():\n",
    "    torch.cuda.empty_cache()\n",
    "\n",
    "del model\n",
    "gc.collect()"
   ],
   "id": "ca156d822cb20156",
   "outputs": [
    {
     "data": {
      "text/plain": [
       "7093"
      ]
     },
     "execution_count": 22,
     "metadata": {},
     "output_type": "execute_result"
    }
   ],
   "execution_count": 22
  }
 ],
 "metadata": {
  "kernelspec": {
   "display_name": "Python 3",
   "language": "python",
   "name": "python3"
  },
  "language_info": {
   "codemirror_mode": {
    "name": "ipython",
    "version": 2
   },
   "file_extension": ".py",
   "mimetype": "text/x-python",
   "name": "python",
   "nbconvert_exporter": "python",
   "pygments_lexer": "ipython2",
   "version": "2.7.6"
  }
 },
 "nbformat": 4,
 "nbformat_minor": 5
}
